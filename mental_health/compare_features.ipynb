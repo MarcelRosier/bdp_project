{
 "cells": [
  {
   "cell_type": "code",
   "execution_count": 1,
   "metadata": {},
   "outputs": [],
   "source": [
    "import pandas as pd\n",
    "import numpy as np\n",
    "import matplotlib.pylab as plt\n",
    "import seaborn as sns\n",
    "import utils\n",
    "plt.style.use('ggplot')\n",
    "pd.set_option('display.max_columns', 200)\n",
    "pd.set_option('display.float_format', lambda x: '%.10f' % x)"
   ]
  },
  {
   "cell_type": "code",
   "execution_count": 2,
   "metadata": {},
   "outputs": [],
   "source": [
    "from sklearn.linear_model import LinearRegression\n",
    "from sklearn.tree import DecisionTreeRegressor \n",
    "from sklearn.neural_network import MLPRegressor\n"
   ]
  },
  {
   "cell_type": "code",
   "execution_count": null,
   "metadata": {},
   "outputs": [],
   "source": [
    "# suicides_no correlations\n",
    "# suicides_no              1.0000000000\n",
    "# population               0.7527496258\n",
    "# healthcare_coverage     -0.3112210750\n",
    "# suicides_per_100k_pop    0.2294931317\n",
    "# country                  0.1941055561\n",
    "# sex                      0.1825902701\n",
    "# gini                     0.1194502160\n",
    "# gdp_per_capita           0.0540850263\n",
    "# continent                0.0478441265\n",
    "# age                      0.0149417279\n",
    "# year                    -0.0095477162\n",
    "\n",
    "X_cols_all = ['country', 'continent', 'sex', 'age', 'year',\n",
    "              'gdp_per_capita', 'healthcare_coverage', 'gini', 'population']\n",
    "# test with no geo informtion\n",
    "X_cols_no_geo_data = ['sex', 'age', 'year', 'gdp_per_capita',\n",
    "                      'healthcare_coverage', 'gini', 'population']\n",
    "X_cols_no_geo_data_no_hc_no_gini = [\n",
    "    'sex', 'age', 'year', 'gdp_per_capita', 'population']\n",
    "X_cols_no_hc_no_gini = ['country', 'continent', 'sex',\n",
    "                        'age', 'year', 'gdp_per_capita', 'population']\n",
    "\n",
    "x_cols_opts = [X_cols_all, X_cols_no_geo_data,X_cols_no_hc_no_gini, X_cols_no_geo_data_no_hc_no_gini]\n",
    "ds_variants = [utils.get_train_test_split(X_Cols=opt) for opt in x_cols_opts]\n",
    "linear_models = []\n",
    "dtr_models = []\n",
    "mlp_models = []\n",
    "for (X_train_std, X_test_std, Y_train, Y_test) in ds_variants:  \n",
    "    # train models for these options\n",
    "    ### linear\n",
    "    linear_model = LinearRegression(positive=False)\n",
    "    linear_model.fit(X_train_std, Y_train)  \n",
    "    linear_models.append(linear_model)\n",
    "\n",
    "    ### dtr\n",
    "    # create a regressor object\n",
    "    dtr_model = DecisionTreeRegressor(random_state = 0) \n",
    "    # fit the regressor with X and Y data\n",
    "    dtr_model.fit(X_train_std, Y_train)\n",
    "    dtr_models.append(dtr_model)\n",
    "\n",
    "    ### mlp\n",
    "    mlp_model = MLPRegressor(\n",
    "    hidden_layer_sizes=[512,256,64,8],\n",
    "    max_iter=3000,\n",
    "    activation='relu')\n",
    "    mlp_model.fit(X_train_std,Y_train)\n",
    "    mlp_models.append(mlp_model)\n",
    "\n",
    "\n",
    "\n"
   ]
  }
 ],
 "metadata": {
  "kernelspec": {
   "display_name": "bdp",
   "language": "python",
   "name": "python3"
  },
  "language_info": {
   "codemirror_mode": {
    "name": "ipython",
    "version": 3
   },
   "file_extension": ".py",
   "mimetype": "text/x-python",
   "name": "python",
   "nbconvert_exporter": "python",
   "pygments_lexer": "ipython3",
   "version": "3.10.9"
  },
  "orig_nbformat": 4
 },
 "nbformat": 4,
 "nbformat_minor": 2
}
