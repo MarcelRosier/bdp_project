{
 "cells": [
  {
   "cell_type": "code",
   "execution_count": 1,
   "metadata": {},
   "outputs": [],
   "source": [
    "import pandas as pd\n",
    "import numpy as np\n",
    "import matplotlib.pylab as plt\n",
    "import seaborn as sns\n",
    "import utils\n",
    "plt.style.use('ggplot')\n",
    "pd.set_option('display.max_columns', 200)\n",
    "pd.set_option('display.float_format', lambda x: '%.10f' % x)\n"
   ]
  },
  {
   "cell_type": "code",
   "execution_count": 2,
   "metadata": {},
   "outputs": [],
   "source": [
    "\n",
    "# load data\n",
    "suicide_df = utils.load_suicide_data()\n",
    "suicide_df = suicide_df[suicide_df.year.between(2010,2015)]\n",
    "\n",
    "gini_df = utils.load_gini()\n",
    "gini_df = gini_df[['country_code','year','gini']]\n",
    "health_df = utils.load_healthcare()\n",
    "health_df = health_df[['country_code','year','healthcare_coverage']]"
   ]
  },
  {
   "cell_type": "code",
   "execution_count": 3,
   "metadata": {},
   "outputs": [
    {
     "data": {
      "text/html": [
       "<div>\n",
       "<style scoped>\n",
       "    .dataframe tbody tr th:only-of-type {\n",
       "        vertical-align: middle;\n",
       "    }\n",
       "\n",
       "    .dataframe tbody tr th {\n",
       "        vertical-align: top;\n",
       "    }\n",
       "\n",
       "    .dataframe thead th {\n",
       "        text-align: right;\n",
       "    }\n",
       "</style>\n",
       "<table border=\"1\" class=\"dataframe\">\n",
       "  <thead>\n",
       "    <tr style=\"text-align: right;\">\n",
       "      <th></th>\n",
       "      <th>country_code</th>\n",
       "      <th>year</th>\n",
       "      <th>healthcare_coverage</th>\n",
       "    </tr>\n",
       "  </thead>\n",
       "  <tbody>\n",
       "    <tr>\n",
       "      <th>0</th>\n",
       "      <td>AUS</td>\n",
       "      <td>2010</td>\n",
       "      <td>100.0000000000</td>\n",
       "    </tr>\n",
       "    <tr>\n",
       "      <th>1</th>\n",
       "      <td>AUS</td>\n",
       "      <td>2011</td>\n",
       "      <td>100.0000000000</td>\n",
       "    </tr>\n",
       "    <tr>\n",
       "      <th>2</th>\n",
       "      <td>AUS</td>\n",
       "      <td>2012</td>\n",
       "      <td>100.0000000000</td>\n",
       "    </tr>\n",
       "    <tr>\n",
       "      <th>3</th>\n",
       "      <td>AUS</td>\n",
       "      <td>2013</td>\n",
       "      <td>100.0000000000</td>\n",
       "    </tr>\n",
       "    <tr>\n",
       "      <th>4</th>\n",
       "      <td>AUS</td>\n",
       "      <td>2014</td>\n",
       "      <td>100.0000000000</td>\n",
       "    </tr>\n",
       "    <tr>\n",
       "      <th>...</th>\n",
       "      <td>...</td>\n",
       "      <td>...</td>\n",
       "      <td>...</td>\n",
       "    </tr>\n",
       "    <tr>\n",
       "      <th>405</th>\n",
       "      <td>CRI</td>\n",
       "      <td>2011</td>\n",
       "      <td>93.7000000000</td>\n",
       "    </tr>\n",
       "    <tr>\n",
       "      <th>406</th>\n",
       "      <td>CRI</td>\n",
       "      <td>2012</td>\n",
       "      <td>93.6000000000</td>\n",
       "    </tr>\n",
       "    <tr>\n",
       "      <th>407</th>\n",
       "      <td>CRI</td>\n",
       "      <td>2013</td>\n",
       "      <td>94.4000000000</td>\n",
       "    </tr>\n",
       "    <tr>\n",
       "      <th>408</th>\n",
       "      <td>CRI</td>\n",
       "      <td>2014</td>\n",
       "      <td>94.7000000000</td>\n",
       "    </tr>\n",
       "    <tr>\n",
       "      <th>409</th>\n",
       "      <td>CRI</td>\n",
       "      <td>2015</td>\n",
       "      <td>94.9000000000</td>\n",
       "    </tr>\n",
       "  </tbody>\n",
       "</table>\n",
       "<p>204 rows × 3 columns</p>\n",
       "</div>"
      ],
      "text/plain": [
       "    country_code  year  healthcare_coverage\n",
       "0            AUS  2010       100.0000000000\n",
       "1            AUS  2011       100.0000000000\n",
       "2            AUS  2012       100.0000000000\n",
       "3            AUS  2013       100.0000000000\n",
       "4            AUS  2014       100.0000000000\n",
       "..           ...   ...                  ...\n",
       "405          CRI  2011        93.7000000000\n",
       "406          CRI  2012        93.6000000000\n",
       "407          CRI  2013        94.4000000000\n",
       "408          CRI  2014        94.7000000000\n",
       "409          CRI  2015        94.9000000000\n",
       "\n",
       "[204 rows x 3 columns]"
      ]
     },
     "execution_count": 3,
     "metadata": {},
     "output_type": "execute_result"
    }
   ],
   "source": [
    "health_df"
   ]
  },
  {
   "cell_type": "code",
   "execution_count": 4,
   "metadata": {},
   "outputs": [
    {
     "data": {
      "text/html": [
       "<div>\n",
       "<style scoped>\n",
       "    .dataframe tbody tr th:only-of-type {\n",
       "        vertical-align: middle;\n",
       "    }\n",
       "\n",
       "    .dataframe tbody tr th {\n",
       "        vertical-align: top;\n",
       "    }\n",
       "\n",
       "    .dataframe thead th {\n",
       "        text-align: right;\n",
       "    }\n",
       "</style>\n",
       "<table border=\"1\" class=\"dataframe\">\n",
       "  <thead>\n",
       "    <tr style=\"text-align: right;\">\n",
       "      <th></th>\n",
       "      <th>country_code</th>\n",
       "      <th>year</th>\n",
       "      <th>gini</th>\n",
       "    </tr>\n",
       "  </thead>\n",
       "  <tbody>\n",
       "    <tr>\n",
       "      <th>13309</th>\n",
       "      <td>ARG</td>\n",
       "      <td>2010</td>\n",
       "      <td>43.6000000000</td>\n",
       "    </tr>\n",
       "    <tr>\n",
       "      <th>13310</th>\n",
       "      <td>ARM</td>\n",
       "      <td>2010</td>\n",
       "      <td>30.0000000000</td>\n",
       "    </tr>\n",
       "    <tr>\n",
       "      <th>13313</th>\n",
       "      <td>AUS</td>\n",
       "      <td>2010</td>\n",
       "      <td>34.7000000000</td>\n",
       "    </tr>\n",
       "    <tr>\n",
       "      <th>13314</th>\n",
       "      <td>AUT</td>\n",
       "      <td>2010</td>\n",
       "      <td>30.3000000000</td>\n",
       "    </tr>\n",
       "    <tr>\n",
       "      <th>13317</th>\n",
       "      <td>BEL</td>\n",
       "      <td>2010</td>\n",
       "      <td>28.4000000000</td>\n",
       "    </tr>\n",
       "    <tr>\n",
       "      <th>...</th>\n",
       "      <td>...</td>\n",
       "      <td>...</td>\n",
       "      <td>...</td>\n",
       "    </tr>\n",
       "    <tr>\n",
       "      <th>14878</th>\n",
       "      <td>UKR</td>\n",
       "      <td>2015</td>\n",
       "      <td>25.5000000000</td>\n",
       "    </tr>\n",
       "    <tr>\n",
       "      <th>14880</th>\n",
       "      <td>URY</td>\n",
       "      <td>2015</td>\n",
       "      <td>40.1000000000</td>\n",
       "    </tr>\n",
       "    <tr>\n",
       "      <th>14881</th>\n",
       "      <td>USA</td>\n",
       "      <td>2015</td>\n",
       "      <td>41.2000000000</td>\n",
       "    </tr>\n",
       "    <tr>\n",
       "      <th>14891</th>\n",
       "      <td>XKX</td>\n",
       "      <td>2015</td>\n",
       "      <td>26.5000000000</td>\n",
       "    </tr>\n",
       "    <tr>\n",
       "      <th>14894</th>\n",
       "      <td>ZMB</td>\n",
       "      <td>2015</td>\n",
       "      <td>57.1000000000</td>\n",
       "    </tr>\n",
       "  </tbody>\n",
       "</table>\n",
       "<p>492 rows × 3 columns</p>\n",
       "</div>"
      ],
      "text/plain": [
       "      country_code  year          gini\n",
       "13309          ARG  2010 43.6000000000\n",
       "13310          ARM  2010 30.0000000000\n",
       "13313          AUS  2010 34.7000000000\n",
       "13314          AUT  2010 30.3000000000\n",
       "13317          BEL  2010 28.4000000000\n",
       "...            ...   ...           ...\n",
       "14878          UKR  2015 25.5000000000\n",
       "14880          URY  2015 40.1000000000\n",
       "14881          USA  2015 41.2000000000\n",
       "14891          XKX  2015 26.5000000000\n",
       "14894          ZMB  2015 57.1000000000\n",
       "\n",
       "[492 rows x 3 columns]"
      ]
     },
     "execution_count": 4,
     "metadata": {},
     "output_type": "execute_result"
    }
   ],
   "source": [
    "gini_df"
   ]
  },
  {
   "cell_type": "code",
   "execution_count": 5,
   "metadata": {},
   "outputs": [
    {
     "name": "stderr",
     "output_type": "stream",
     "text": [
      "/var/folders/v4/5kdk6t_57x3gwhsz8x8jl_900000gn/T/ipykernel_49645/2537081086.py:2: FutureWarning: The default value of numeric_only in DataFrame.corr is deprecated. In a future version, it will default to False. Select only valid columns or specify the value of numeric_only to silence this warning.\n",
      "  sns.heatmap(gh.corr(),annot=True)\n"
     ]
    },
    {
     "data": {
      "text/plain": [
       "<AxesSubplot: >"
      ]
     },
     "execution_count": 5,
     "metadata": {},
     "output_type": "execute_result"
    },
    {
     "data": {
      "image/png": "[encoded data removed]",
      "text/plain": [
       "<Figure size 640x480 with 2 Axes>"
      ]
     },
     "metadata": {},
     "output_type": "display_data"
    }
   ],
   "source": [
    "gh = health_df.merge(gini_df,on=['year','country_code'])\n",
    "sns.heatmap(gh.corr(),annot=True)"
   ]
  },
  {
   "cell_type": "code",
   "execution_count": 8,
   "metadata": {},
   "outputs": [
    {
     "data": {
      "text/plain": [
       "country                  0\n",
       "year                     0\n",
       "sex                      0\n",
       "age                      0\n",
       "suicides_no              0\n",
       "population               0\n",
       "suicides_per_100k_pop    0\n",
       "gdp_for_year             0\n",
       "gdp_per_capita           0\n",
       "generation               0\n",
       "country_code             0\n",
       "continent                0\n",
       "healthcare_coverage      0\n",
       "gini                     0\n",
       "dtype: int64"
      ]
     },
     "execution_count": 8,
     "metadata": {},
     "output_type": "execute_result"
    }
   ],
   "source": [
    "df = suicide_df.merge(gh, on=['year', 'country_code'])"
   ]
  }
 ],
 "metadata": {
  "kernelspec": {
   "display_name": "bdp",
   "language": "python",
   "name": "python3"
  },
  "language_info": {
   "codemirror_mode": {
    "name": "ipython",
    "version": 3
   },
   "file_extension": ".py",
   "mimetype": "text/x-python",
   "name": "python",
   "nbconvert_exporter": "python",
   "pygments_lexer": "ipython3",
   "version": "3.10.9"
  },
  "orig_nbformat": 4
 },
 "nbformat": 4,
 "nbformat_minor": 2
}
