{
 "cells": [
  {
   "cell_type": "code",
   "execution_count": 1,
   "metadata": {},
   "outputs": [],
   "source": [
    "from models import Wrapper"
   ]
  },
  {
   "cell_type": "code",
   "execution_count": 2,
   "metadata": {},
   "outputs": [
    {
     "name": "stdout",
     "output_type": "stream",
     "text": [
      "Fitting LinearRegression\n",
      "Fitting DecisionTreeRegressor\n",
      "Fitting MLPRegressor\n",
      "Fitting XGBRegressor\n",
      "Fitting RandomForestRegressor\n",
      "Fitting KNeighborsRegressor\n"
     ]
    }
   ],
   "source": [
    "wrapper = Wrapper(models=Wrapper.ALL_MODELS)\n",
    "\n",
    "# train the models\n",
    "wrapper.train()"
   ]
  },
  {
   "cell_type": "code",
   "execution_count": 3,
   "metadata": {},
   "outputs": [
    {
     "name": "stdout",
     "output_type": "stream",
     "text": [
      "LinearRegression: 308.50891367827575\n",
      "DecisionTreeRegressor: 34.51086956521739\n",
      "MLPRegressor: 54.887950197070346\n",
      "XGBRegressor: 42.01274177345677\n",
      "RandomForestRegressor: 43.684384057971016\n",
      "KNeighborsRegressor: 170.10144927536228\n"
     ]
    },
    {
     "data": {
      "text/plain": [
       "{'LinearRegression': 308.50891367827575,\n",
       " 'DecisionTreeRegressor': 34.51086956521739,\n",
       " 'MLPRegressor': 54.887950197070346,\n",
       " 'XGBRegressor': 42.01274177345677,\n",
       " 'RandomForestRegressor': 43.684384057971016,\n",
       " 'KNeighborsRegressor': 170.10144927536228}"
      ]
     },
     "execution_count": 3,
     "metadata": {},
     "output_type": "execute_result"
    }
   ],
   "source": [
    "# make predictions for the trained models\n",
    "_ = wrapper.predict_test()\n",
    "# evaluate based on some metrics\n",
    "# default call usses absolute mean error\n",
    "wrapper.evaluate()"
   ]
  },
  {
   "cell_type": "code",
   "execution_count": 12,
   "metadata": {},
   "outputs": [
    {
     "name": "stdout",
     "output_type": "stream",
     "text": [
      "LinearRegression: 378386.29195839464\n",
      "DecisionTreeRegressor: 7821.351449275362\n",
      "MLPRegressor: 8631.46489496648\n",
      "XGBRegressor: 9224.465468064916\n",
      "RandomForestRegressor: 13936.986046014494\n",
      "KNeighborsRegressor: 189294.78463768118\n",
      "--------------------\n",
      "LinearRegression: 0.6641357144362947\n",
      "DecisionTreeRegressor: 0.9930575904241733\n",
      "MLPRegressor: 0.9923385152899913\n",
      "XGBRegressor: 0.9918121544834416\n",
      "RandomForestRegressor: 0.9876292139521516\n",
      "KNeighborsRegressor: 0.8319776404313799\n"
     ]
    }
   ],
   "source": [
    "# test other metrics\n",
    "from sklearn.metrics import (max_error, mean_absolute_error,\n",
    "                             mean_squared_error, median_absolute_error, r2_score)\n",
    "_ = wrapper.evaluate(metric=mean_squared_error)\n",
    "print('-'*20)\n",
    "_ = wrapper.evaluate(metric=r2_score)"
   ]
  },
  {
   "cell_type": "code",
   "execution_count": 4,
   "metadata": {},
   "outputs": [],
   "source": [
    "# save the models so we can use them again later without retraining\n",
    "wrapper.save_models()"
   ]
  }
 ],
 "metadata": {
  "kernelspec": {
   "display_name": "bdp",
   "language": "python",
   "name": "python3"
  },
  "language_info": {
   "codemirror_mode": {
    "name": "ipython",
    "version": 3
   },
   "file_extension": ".py",
   "mimetype": "text/x-python",
   "name": "python",
   "nbconvert_exporter": "python",
   "pygments_lexer": "ipython3",
   "version": "3.10.9"
  },
  "orig_nbformat": 4
 },
 "nbformat": 4,
 "nbformat_minor": 2
}
