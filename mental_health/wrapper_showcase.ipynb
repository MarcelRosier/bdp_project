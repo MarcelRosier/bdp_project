{
 "cells": [
  {
   "attachments": {},
   "cell_type": "markdown",
   "metadata": {},
   "source": [
    "## Import the wrapper and instantiate it with some untrained models"
   ]
  },
  {
   "cell_type": "code",
   "execution_count": 7,
   "metadata": {},
   "outputs": [],
   "source": [
    "from models import Wrapper\n",
    "wrapper = Wrapper(models=Wrapper.ALL_MODELS_UNTRAINED)\n"
   ]
  },
  {
   "attachments": {},
   "cell_type": "markdown",
   "metadata": {},
   "source": [
    "## Train the models or load the pretrained stored models"
   ]
  },
  {
   "cell_type": "code",
   "execution_count": 16,
   "metadata": {},
   "outputs": [],
   "source": [
    "\n",
    "# train the models\n",
    "# wrapper.train()\n",
    "\n",
    "## here we just laod the pretrained ones\n",
    "wrapper.load_models()"
   ]
  },
  {
   "cell_type": "code",
   "execution_count": 17,
   "metadata": {},
   "outputs": [],
   "source": [
    "# make predictions for all trained models\n",
    "# the results are stored in the wrapper class\n",
    "_ = wrapper.predict_test()"
   ]
  },
  {
   "attachments": {},
   "cell_type": "markdown",
   "metadata": {},
   "source": [
    "## Evaluate the predictions using different metrics"
   ]
  },
  {
   "cell_type": "code",
   "execution_count": 18,
   "metadata": {},
   "outputs": [
    {
     "name": "stdout",
     "output_type": "stream",
     "text": [
      "#######mean_squared_error#######\n",
      "LinearRegression: 378386.29195839464\n",
      "DecisionTreeRegressor: 7821.351449275362\n",
      "MLPRegressor: 8631.46489496648\n",
      "XGBRegressor: 9224.465468064916\n",
      "RandomForestRegressor: 13936.986046014494\n",
      "KNeighborsRegressor: 189294.78463768118\n",
      "\n",
      "####root_mean_squared_error#####\n",
      "LinearRegression: 615.1311176963775\n",
      "DecisionTreeRegressor: 88.43840483226369\n",
      "MLPRegressor: 92.90567740976049\n",
      "XGBRegressor: 96.04408085907697\n",
      "RandomForestRegressor: 118.05501279494443\n",
      "KNeighborsRegressor: 435.0802048331792\n",
      "\n",
      "############r2_score############\n",
      "LinearRegression: 0.6641357144362947\n",
      "DecisionTreeRegressor: 0.9930575904241733\n",
      "MLPRegressor: 0.9923385152899913\n",
      "XGBRegressor: 0.9918121544834416\n",
      "RandomForestRegressor: 0.9876292139521516\n",
      "KNeighborsRegressor: 0.8319776404313799\n",
      "\n",
      "######mean_absolute_error#######\n",
      "LinearRegression: 308.50891367827575\n",
      "DecisionTreeRegressor: 34.51086956521739\n",
      "MLPRegressor: 54.887950197070346\n",
      "XGBRegressor: 42.01274177345677\n",
      "RandomForestRegressor: 43.684384057971016\n",
      "KNeighborsRegressor: 170.10144927536228\n",
      "\n"
     ]
    }
   ],
   "source": [
    "# test other metrics\n",
    "from sklearn.metrics import (max_error, mean_absolute_error,\n",
    "                             mean_squared_error, median_absolute_error, r2_score)\n",
    "from utils import root_mean_squared_error\n",
    "\n",
    "for metric in [mean_squared_error, root_mean_squared_error, r2_score,mean_absolute_error]:\n",
    "    print(f\"{metric.__name__:#^32}\")\n",
    "    _ = wrapper.evaluate(metric=metric)\n",
    "    print()"
   ]
  },
  {
   "attachments": {},
   "cell_type": "markdown",
   "metadata": {},
   "source": [
    "## We can save the models to a file to reuse them later without having to retrain them"
   ]
  },
  {
   "cell_type": "code",
   "execution_count": 15,
   "metadata": {},
   "outputs": [],
   "source": [
    "wrapper.save_models()"
   ]
  }
 ],
 "metadata": {
  "kernelspec": {
   "display_name": "bdp",
   "language": "python",
   "name": "python3"
  },
  "language_info": {
   "codemirror_mode": {
    "name": "ipython",
    "version": 3
   },
   "file_extension": ".py",
   "mimetype": "text/x-python",
   "name": "python",
   "nbconvert_exporter": "python",
   "pygments_lexer": "ipython3",
   "version": "3.10.9"
  },
  "orig_nbformat": 4
 },
 "nbformat": 4,
 "nbformat_minor": 2
}
