{
 "cells": [
  {
   "cell_type": "code",
   "execution_count": 431,
   "metadata": {},
   "outputs": [],
   "source": [
    "import pandas as pd\n",
    "import numpy as np\n",
    "import matplotlib.pylab as plt\n",
    "import seaborn as sns\n",
    "plt.style.use('ggplot')\n",
    "pd.set_option('display.max_columns', 200)\n",
    "pd.set_option('display.float_format', lambda x: '%.10f' % x)\n"
   ]
  },
  {
   "cell_type": "code",
   "execution_count": 432,
   "metadata": {},
   "outputs": [],
   "source": [
    "df = pd.read_csv('suicide_ds_2016.csv')"
   ]
  },
  {
   "cell_type": "code",
   "execution_count": 433,
   "metadata": {},
   "outputs": [
    {
     "name": "stdout",
     "output_type": "stream",
     "text": [
      "<class 'pandas.core.frame.DataFrame'>\n",
      "RangeIndex: 27820 entries, 0 to 27819\n",
      "Data columns (total 12 columns):\n",
      " #   Column              Non-Null Count  Dtype  \n",
      "---  ------              --------------  -----  \n",
      " 0   country             27820 non-null  object \n",
      " 1   year                27820 non-null  int64  \n",
      " 2   sex                 27820 non-null  object \n",
      " 3   age                 27820 non-null  object \n",
      " 4   suicides_no         27820 non-null  int64  \n",
      " 5   population          27820 non-null  int64  \n",
      " 6   suicides/100k pop   27820 non-null  float64\n",
      " 7   country-year        27820 non-null  object \n",
      " 8   HDI for year        8364 non-null   float64\n",
      " 9    gdp_for_year ($)   27820 non-null  object \n",
      " 10  gdp_per_capita ($)  27820 non-null  int64  \n",
      " 11  generation          27820 non-null  object \n",
      "dtypes: float64(2), int64(4), object(6)\n",
      "memory usage: 2.5+ MB\n"
     ]
    }
   ],
   "source": [
    "df.info()"
   ]
  },
  {
   "cell_type": "code",
   "execution_count": 434,
   "metadata": {},
   "outputs": [
    {
     "data": {
      "text/html": [
       "<div>\n",
       "<style scoped>\n",
       "    .dataframe tbody tr th:only-of-type {\n",
       "        vertical-align: middle;\n",
       "    }\n",
       "\n",
       "    .dataframe tbody tr th {\n",
       "        vertical-align: top;\n",
       "    }\n",
       "\n",
       "    .dataframe thead th {\n",
       "        text-align: right;\n",
       "    }\n",
       "</style>\n",
       "<table border=\"1\" class=\"dataframe\">\n",
       "  <thead>\n",
       "    <tr style=\"text-align: right;\">\n",
       "      <th></th>\n",
       "      <th>country</th>\n",
       "      <th>year</th>\n",
       "      <th>sex</th>\n",
       "      <th>age</th>\n",
       "      <th>suicides_no</th>\n",
       "      <th>population</th>\n",
       "      <th>suicides/100k pop</th>\n",
       "      <th>country-year</th>\n",
       "      <th>HDI for year</th>\n",
       "      <th>gdp_for_year ($)</th>\n",
       "      <th>gdp_per_capita ($)</th>\n",
       "      <th>generation</th>\n",
       "    </tr>\n",
       "  </thead>\n",
       "  <tbody>\n",
       "    <tr>\n",
       "      <th>0</th>\n",
       "      <td>Albania</td>\n",
       "      <td>1987</td>\n",
       "      <td>male</td>\n",
       "      <td>15-24 years</td>\n",
       "      <td>21</td>\n",
       "      <td>312900</td>\n",
       "      <td>6.7100000000</td>\n",
       "      <td>Albania1987</td>\n",
       "      <td>NaN</td>\n",
       "      <td>2,156,624,900</td>\n",
       "      <td>796</td>\n",
       "      <td>Generation X</td>\n",
       "    </tr>\n",
       "    <tr>\n",
       "      <th>1</th>\n",
       "      <td>Albania</td>\n",
       "      <td>1987</td>\n",
       "      <td>male</td>\n",
       "      <td>35-54 years</td>\n",
       "      <td>16</td>\n",
       "      <td>308000</td>\n",
       "      <td>5.1900000000</td>\n",
       "      <td>Albania1987</td>\n",
       "      <td>NaN</td>\n",
       "      <td>2,156,624,900</td>\n",
       "      <td>796</td>\n",
       "      <td>Silent</td>\n",
       "    </tr>\n",
       "    <tr>\n",
       "      <th>2</th>\n",
       "      <td>Albania</td>\n",
       "      <td>1987</td>\n",
       "      <td>female</td>\n",
       "      <td>15-24 years</td>\n",
       "      <td>14</td>\n",
       "      <td>289700</td>\n",
       "      <td>4.8300000000</td>\n",
       "      <td>Albania1987</td>\n",
       "      <td>NaN</td>\n",
       "      <td>2,156,624,900</td>\n",
       "      <td>796</td>\n",
       "      <td>Generation X</td>\n",
       "    </tr>\n",
       "    <tr>\n",
       "      <th>3</th>\n",
       "      <td>Albania</td>\n",
       "      <td>1987</td>\n",
       "      <td>male</td>\n",
       "      <td>75+ years</td>\n",
       "      <td>1</td>\n",
       "      <td>21800</td>\n",
       "      <td>4.5900000000</td>\n",
       "      <td>Albania1987</td>\n",
       "      <td>NaN</td>\n",
       "      <td>2,156,624,900</td>\n",
       "      <td>796</td>\n",
       "      <td>G.I. Generation</td>\n",
       "    </tr>\n",
       "    <tr>\n",
       "      <th>4</th>\n",
       "      <td>Albania</td>\n",
       "      <td>1987</td>\n",
       "      <td>male</td>\n",
       "      <td>25-34 years</td>\n",
       "      <td>9</td>\n",
       "      <td>274300</td>\n",
       "      <td>3.2800000000</td>\n",
       "      <td>Albania1987</td>\n",
       "      <td>NaN</td>\n",
       "      <td>2,156,624,900</td>\n",
       "      <td>796</td>\n",
       "      <td>Boomers</td>\n",
       "    </tr>\n",
       "  </tbody>\n",
       "</table>\n",
       "</div>"
      ],
      "text/plain": [
       "   country  year     sex          age  suicides_no  population  \\\n",
       "0  Albania  1987    male  15-24 years           21      312900   \n",
       "1  Albania  1987    male  35-54 years           16      308000   \n",
       "2  Albania  1987  female  15-24 years           14      289700   \n",
       "3  Albania  1987    male    75+ years            1       21800   \n",
       "4  Albania  1987    male  25-34 years            9      274300   \n",
       "\n",
       "   suicides/100k pop country-year  HDI for year  gdp_for_year ($)   \\\n",
       "0       6.7100000000  Albania1987           NaN      2,156,624,900   \n",
       "1       5.1900000000  Albania1987           NaN      2,156,624,900   \n",
       "2       4.8300000000  Albania1987           NaN      2,156,624,900   \n",
       "3       4.5900000000  Albania1987           NaN      2,156,624,900   \n",
       "4       3.2800000000  Albania1987           NaN      2,156,624,900   \n",
       "\n",
       "   gdp_per_capita ($)       generation  \n",
       "0                 796     Generation X  \n",
       "1                 796           Silent  \n",
       "2                 796     Generation X  \n",
       "3                 796  G.I. Generation  \n",
       "4                 796          Boomers  "
      ]
     },
     "execution_count": 434,
     "metadata": {},
     "output_type": "execute_result"
    }
   ],
   "source": [
    "df.head()"
   ]
  },
  {
   "cell_type": "code",
   "execution_count": 435,
   "metadata": {},
   "outputs": [
    {
     "data": {
      "text/html": [
       "<div>\n",
       "<style scoped>\n",
       "    .dataframe tbody tr th:only-of-type {\n",
       "        vertical-align: middle;\n",
       "    }\n",
       "\n",
       "    .dataframe tbody tr th {\n",
       "        vertical-align: top;\n",
       "    }\n",
       "\n",
       "    .dataframe thead th {\n",
       "        text-align: right;\n",
       "    }\n",
       "</style>\n",
       "<table border=\"1\" class=\"dataframe\">\n",
       "  <thead>\n",
       "    <tr style=\"text-align: right;\">\n",
       "      <th></th>\n",
       "      <th>country</th>\n",
       "      <th>year</th>\n",
       "      <th>sex</th>\n",
       "      <th>age</th>\n",
       "      <th>suicides_no</th>\n",
       "      <th>population</th>\n",
       "      <th>suicides/100k pop</th>\n",
       "      <th>country-year</th>\n",
       "      <th>HDI for year</th>\n",
       "      <th>gdp_for_year ($)</th>\n",
       "      <th>gdp_per_capita ($)</th>\n",
       "      <th>generation</th>\n",
       "    </tr>\n",
       "  </thead>\n",
       "  <tbody>\n",
       "    <tr>\n",
       "      <th>27815</th>\n",
       "      <td>Uzbekistan</td>\n",
       "      <td>2014</td>\n",
       "      <td>female</td>\n",
       "      <td>35-54 years</td>\n",
       "      <td>107</td>\n",
       "      <td>3620833</td>\n",
       "      <td>2.9600000000</td>\n",
       "      <td>Uzbekistan2014</td>\n",
       "      <td>0.6750000000</td>\n",
       "      <td>63,067,077,179</td>\n",
       "      <td>2309</td>\n",
       "      <td>Generation X</td>\n",
       "    </tr>\n",
       "    <tr>\n",
       "      <th>27816</th>\n",
       "      <td>Uzbekistan</td>\n",
       "      <td>2014</td>\n",
       "      <td>female</td>\n",
       "      <td>75+ years</td>\n",
       "      <td>9</td>\n",
       "      <td>348465</td>\n",
       "      <td>2.5800000000</td>\n",
       "      <td>Uzbekistan2014</td>\n",
       "      <td>0.6750000000</td>\n",
       "      <td>63,067,077,179</td>\n",
       "      <td>2309</td>\n",
       "      <td>Silent</td>\n",
       "    </tr>\n",
       "    <tr>\n",
       "      <th>27817</th>\n",
       "      <td>Uzbekistan</td>\n",
       "      <td>2014</td>\n",
       "      <td>male</td>\n",
       "      <td>5-14 years</td>\n",
       "      <td>60</td>\n",
       "      <td>2762158</td>\n",
       "      <td>2.1700000000</td>\n",
       "      <td>Uzbekistan2014</td>\n",
       "      <td>0.6750000000</td>\n",
       "      <td>63,067,077,179</td>\n",
       "      <td>2309</td>\n",
       "      <td>Generation Z</td>\n",
       "    </tr>\n",
       "    <tr>\n",
       "      <th>27818</th>\n",
       "      <td>Uzbekistan</td>\n",
       "      <td>2014</td>\n",
       "      <td>female</td>\n",
       "      <td>5-14 years</td>\n",
       "      <td>44</td>\n",
       "      <td>2631600</td>\n",
       "      <td>1.6700000000</td>\n",
       "      <td>Uzbekistan2014</td>\n",
       "      <td>0.6750000000</td>\n",
       "      <td>63,067,077,179</td>\n",
       "      <td>2309</td>\n",
       "      <td>Generation Z</td>\n",
       "    </tr>\n",
       "    <tr>\n",
       "      <th>27819</th>\n",
       "      <td>Uzbekistan</td>\n",
       "      <td>2014</td>\n",
       "      <td>female</td>\n",
       "      <td>55-74 years</td>\n",
       "      <td>21</td>\n",
       "      <td>1438935</td>\n",
       "      <td>1.4600000000</td>\n",
       "      <td>Uzbekistan2014</td>\n",
       "      <td>0.6750000000</td>\n",
       "      <td>63,067,077,179</td>\n",
       "      <td>2309</td>\n",
       "      <td>Boomers</td>\n",
       "    </tr>\n",
       "  </tbody>\n",
       "</table>\n",
       "</div>"
      ],
      "text/plain": [
       "          country  year     sex          age  suicides_no  population  \\\n",
       "27815  Uzbekistan  2014  female  35-54 years          107     3620833   \n",
       "27816  Uzbekistan  2014  female    75+ years            9      348465   \n",
       "27817  Uzbekistan  2014    male   5-14 years           60     2762158   \n",
       "27818  Uzbekistan  2014  female   5-14 years           44     2631600   \n",
       "27819  Uzbekistan  2014  female  55-74 years           21     1438935   \n",
       "\n",
       "       suicides/100k pop    country-year  HDI for year  gdp_for_year ($)   \\\n",
       "27815       2.9600000000  Uzbekistan2014  0.6750000000     63,067,077,179   \n",
       "27816       2.5800000000  Uzbekistan2014  0.6750000000     63,067,077,179   \n",
       "27817       2.1700000000  Uzbekistan2014  0.6750000000     63,067,077,179   \n",
       "27818       1.6700000000  Uzbekistan2014  0.6750000000     63,067,077,179   \n",
       "27819       1.4600000000  Uzbekistan2014  0.6750000000     63,067,077,179   \n",
       "\n",
       "       gdp_per_capita ($)    generation  \n",
       "27815                2309  Generation X  \n",
       "27816                2309        Silent  \n",
       "27817                2309  Generation Z  \n",
       "27818                2309  Generation Z  \n",
       "27819                2309       Boomers  "
      ]
     },
     "execution_count": 435,
     "metadata": {},
     "output_type": "execute_result"
    }
   ],
   "source": [
    "df.tail()"
   ]
  },
  {
   "cell_type": "code",
   "execution_count": 436,
   "metadata": {},
   "outputs": [
    {
     "data": {
      "text/plain": [
       "country                 101\n",
       "year                     32\n",
       "sex                       2\n",
       "age                       6\n",
       "suicides_no            2084\n",
       "population            25564\n",
       "suicides/100k pop      5298\n",
       "country-year           2321\n",
       "HDI for year            305\n",
       " gdp_for_year ($)      2321\n",
       "gdp_per_capita ($)     2233\n",
       "generation                6\n",
       "dtype: int64"
      ]
     },
     "execution_count": 436,
     "metadata": {},
     "output_type": "execute_result"
    }
   ],
   "source": [
    "df.nunique()"
   ]
  },
  {
   "cell_type": "code",
   "execution_count": 437,
   "metadata": {},
   "outputs": [
    {
     "data": {
      "text/plain": [
       "country                   0\n",
       "year                      0\n",
       "sex                       0\n",
       "age                       0\n",
       "suicides_no               0\n",
       "population                0\n",
       "suicides/100k pop         0\n",
       "country-year              0\n",
       "HDI for year          19456\n",
       " gdp_for_year ($)         0\n",
       "gdp_per_capita ($)        0\n",
       "generation                0\n",
       "dtype: int64"
      ]
     },
     "execution_count": 437,
     "metadata": {},
     "output_type": "execute_result"
    }
   ],
   "source": [
    "df.isna().sum()"
   ]
  },
  {
   "attachments": {},
   "cell_type": "markdown",
   "metadata": {},
   "source": [
    "# Tidy data\n",
    "- Drop columns:\n",
    "    - remove HDI for year\n",
    "    - remove country-year\n",
    "- Rename columns:\n",
    "    - 'suicides/100k pop'  => suicides_per_100k_pop\n",
    "    - ' gdp_for_year ($) ' => gdp_for_year\n",
    "    - 'gdp_per_capita ($)' => gdp_per_capita\n",
    "- Remove data points:\n",
    "    - remove data from 2016 due to incompleteness"
   ]
  },
  {
   "cell_type": "code",
   "execution_count": 438,
   "metadata": {},
   "outputs": [
    {
     "data": {
      "text/plain": [
       "Index(['country', 'year', 'sex', 'age', 'suicides_no', 'population',\n",
       "       'suicides_per_100k_pop', 'gdp_for_year', 'gdp_per_capita',\n",
       "       'generation'],\n",
       "      dtype='object')"
      ]
     },
     "execution_count": 438,
     "metadata": {},
     "output_type": "execute_result"
    }
   ],
   "source": [
    "# HDI has a lot of missing data -> drop the column\n",
    "# country-year is not needed -> drop\n",
    "# generation also controversial according to kaggle examples\n",
    "tidy_df = df.drop(['HDI for year', 'country-year'], axis='columns')\n",
    "\n",
    "# rename collumns to be snake case confirm and remove currency\n",
    "tidy_df = tidy_df.rename(columns=\n",
    "    {\n",
    "        'suicides/100k pop': 'suicides_per_100k_pop',\n",
    "        # the extra spaces in the name below are intended!\n",
    "        ' gdp_for_year ($) ': 'gdp_for_year',\n",
    "        'gdp_per_capita ($)':'gdp_per_capita'\n",
    "    })\n",
    "tidy_df.columns\n"
   ]
  },
  {
   "cell_type": "code",
   "execution_count": 439,
   "metadata": {},
   "outputs": [],
   "source": [
    "# find missing rows\n",
    "counts = tidy_df.groupby(['country', 'year']).count()\n",
    "counts.where(counts < 12).dropna()\n",
    "# for 16 countries there is data missing in 2016 \n",
    "# => remove that year to prevent misinterpretation\n",
    "tidy_df = tidy_df[tidy_df['year'] != 2016]"
   ]
  },
  {
   "cell_type": "code",
   "execution_count": 440,
   "metadata": {},
   "outputs": [
    {
     "data": {
      "text/plain": [
       "Text(0, 0.5, 'frequency')"
      ]
     },
     "execution_count": 440,
     "metadata": {},
     "output_type": "execute_result"
    },
    {
     "data": {
      "image/png": "[encoded data removed]",
      "text/plain": [
       "<Figure size 640x480 with 1 Axes>"
      ]
     },
     "metadata": {},
     "output_type": "display_data"
    }
   ],
   "source": [
    "temp = tidy_df.groupby(['country', 'year']).count().reset_index()\n",
    "temp = temp[['country','year']]\n",
    "country_years = temp.groupby('country').count()\n",
    "ax = country_years.value_counts(sort=False).plot.bar()\n",
    "ax.set_xlabel('#years with data')\n",
    "ax.set_ylabel('frequency')"
   ]
  },
  {
   "attachments": {},
   "cell_type": "markdown",
   "metadata": {},
   "source": [
    "plot above shows available data.  \n",
    "31 is max (1985 to 2015)  \n",
    "Whats a reasonable cutoff?  \n",
    "10 years?"
   ]
  },
  {
   "cell_type": "code",
   "execution_count": 441,
   "metadata": {},
   "outputs": [
    {
     "data": {
      "text/plain": [
       "array(['Bosnia and Herzegovina', 'Cabo Verde', 'Dominica', 'Macau',\n",
       "       'Oman', 'Saint Kitts and Nevis', 'San Marino'], dtype=object)"
      ]
     },
     "execution_count": 441,
     "metadata": {},
     "output_type": "execute_result"
    }
   ],
   "source": [
    "# get country names with less than k years of data available\n",
    "temp = country_years.reset_index()\n",
    "MIN_DATA_YEARS = 3\n",
    "names = temp[temp.year <= MIN_DATA_YEARS].country.values\n",
    "names"
   ]
  },
  {
   "cell_type": "code",
   "execution_count": 442,
   "metadata": {},
   "outputs": [
    {
     "data": {
      "text/plain": [
       "(27492, 10)"
      ]
     },
     "execution_count": 442,
     "metadata": {},
     "output_type": "execute_result"
    }
   ],
   "source": [
    "# remove countries determined above by using .isin with the prepended negation (~))\n",
    "tidy_df = tidy_df[~tidy_df['country'].isin(names)]\n",
    "tidy_df.shape"
   ]
  },
  {
   "attachments": {},
   "cell_type": "markdown",
   "metadata": {},
   "source": [
    "# Plot suidice per 100k rates for country, year etc\n",
    "confused about per 100k colum: how to aggregate them to get per year value? mean? does not seem to fit visualizations on kaggle \n",
    "=> not possible. simply recalcualte by summing population and suicides_no in all categories and them take the mean over the years"
   ]
  },
  {
   "cell_type": "code",
   "execution_count": null,
   "metadata": {},
   "outputs": [],
   "source": [
    "def add_per100k(df):\n",
    "    df['per100k'] = ((df.suicides_no / df.population) * 100_000)\n",
    "    return df"
   ]
  },
  {
   "cell_type": "code",
   "execution_count": 443,
   "metadata": {},
   "outputs": [],
   "source": [
    "# by_country = df.groupby('country')['suicides/100k pop']\n",
    "# by_country.mean().mean()"
   ]
  },
  {
   "cell_type": "code",
   "execution_count": 444,
   "metadata": {},
   "outputs": [],
   "source": [
    "# country_year_gby = df.groupby(['country','year'])['suicides/100k pop']\n",
    "# country_year_gby.describe()"
   ]
  },
  {
   "cell_type": "code",
   "execution_count": 445,
   "metadata": {},
   "outputs": [],
   "source": [
    "# country_year_gby.mean()"
   ]
  },
  {
   "cell_type": "code",
   "execution_count": 446,
   "metadata": {},
   "outputs": [],
   "source": [
    "# france[['year','suicides/100k pop']]\n",
    "# france = df[df.country == 'France']\n",
    "# france = france[france.year.between(1985,2015)]\n",
    "# ger = df[df.country == 'Germany']\n",
    "# # not really needed, only data from 1990 to 2015 available\n",
    "# ger = ger[ger.year.between(1985,2015)]\n",
    "# ger_year = ger.groupby('year')\n",
    "# ger_year.sum(numeric_only=True)"
   ]
  },
  {
   "cell_type": "code",
   "execution_count": 447,
   "metadata": {},
   "outputs": [
    {
     "name": "stdout",
     "output_type": "stream",
     "text": [
      "country\n",
      "Germany   14.4057216400\n",
      "Name: per100k, dtype: float64\n"
     ]
    },
    {
     "data": {
      "text/plain": [
       "<AxesSubplot: ylabel='country'>"
      ]
     },
     "execution_count": 447,
     "metadata": {},
     "output_type": "execute_result"
    },
    {
     "data": {
      "image/png": "[encoded data removed]",
      "text/plain": [
       "<Figure size 640x480 with 1 Axes>"
      ]
     },
     "metadata": {},
     "output_type": "display_data"
    }
   ],
   "source": [
    "by_country_and_year = tidy_df.groupby(['country', 'year'])[\n",
    "    ['population', 'suicides_no']].sum(numeric_only=True)\n",
    "by_country_and_year['per100k'] = (\n",
    "    by_country_and_year['suicides_no'] / by_country_and_year['population']) * 100_000\n",
    "# by_country_and_year[['country','per100k']].mean('per100k')\n",
    "country_alltime_avg = by_country_and_year.groupby('country').mean('per100k')\n",
    "country_alltime_avg = country_alltime_avg.per100k\n",
    "print(country_alltime_avg.filter(items=['Germany']))\n",
    "country_alltime_avg = country_alltime_avg.sort_values()\n",
    "country_alltime_avg[-20:].plot.barh()\n",
    "# country_alltime_avg.plot.barh(x='per100k', y='country')\n",
    "# country_alltime_avg.per100k.plot.barh()\n"
   ]
  },
  {
   "cell_type": "code",
   "execution_count": 453,
   "metadata": {},
   "outputs": [
    {
     "name": "stderr",
     "output_type": "stream",
     "text": [
      "/var/folders/v4/5kdk6t_57x3gwhsz8x8jl_900000gn/T/ipykernel_47588/1117506055.py:1: UserWarning: Boolean Series key will be reindexed to match DataFrame index.\n",
      "  ger_2015 = tidy_df[tidy_df.year == 2015][tidy_df.country == 'Germany'][['population','suicides_no']].sum(numeric_only=True)\n"
     ]
    },
    {
     "data": {
      "text/plain": [
       "population    78136683.0000000000\n",
       "suicides_no      10088.0000000000\n",
       "per100k             12.9107093015\n",
       "dtype: float64"
      ]
     },
     "execution_count": 453,
     "metadata": {},
     "output_type": "execute_result"
    }
   ],
   "source": [
    "ger_2015 = tidy_df[tidy_df.year == 2015][tidy_df.country == 'Germany'][['population','suicides_no']].sum(numeric_only=True)\n",
    "ger_2015['per100k'] = ((ger_2015.suicides_no / ger_2015.population) * 100_000)\n",
    "ger_2015"
   ]
  },
  {
   "cell_type": "code",
   "execution_count": 457,
   "metadata": {},
   "outputs": [
    {
     "data": {
      "text/html": [
       "<div>\n",
       "<style scoped>\n",
       "    .dataframe tbody tr th:only-of-type {\n",
       "        vertical-align: middle;\n",
       "    }\n",
       "\n",
       "    .dataframe tbody tr th {\n",
       "        vertical-align: top;\n",
       "    }\n",
       "\n",
       "    .dataframe thead th {\n",
       "        text-align: right;\n",
       "    }\n",
       "</style>\n",
       "<table border=\"1\" class=\"dataframe\">\n",
       "  <thead>\n",
       "    <tr style=\"text-align: right;\">\n",
       "      <th></th>\n",
       "      <th>population</th>\n",
       "      <th>suicides_no</th>\n",
       "    </tr>\n",
       "    <tr>\n",
       "      <th>country</th>\n",
       "      <th></th>\n",
       "      <th></th>\n",
       "    </tr>\n",
       "  </thead>\n",
       "  <tbody>\n",
       "    <tr>\n",
       "      <th>Albania</th>\n",
       "      <td>2903400</td>\n",
       "      <td>88</td>\n",
       "    </tr>\n",
       "    <tr>\n",
       "      <th>Antigua and Barbuda</th>\n",
       "      <td>66846</td>\n",
       "      <td>0</td>\n",
       "    </tr>\n",
       "    <tr>\n",
       "      <th>Argentina</th>\n",
       "      <td>31345400</td>\n",
       "      <td>2204</td>\n",
       "    </tr>\n",
       "    <tr>\n",
       "      <th>Armenia</th>\n",
       "      <td>3443200</td>\n",
       "      <td>130</td>\n",
       "    </tr>\n",
       "    <tr>\n",
       "      <th>Aruba</th>\n",
       "      <td>73581</td>\n",
       "      <td>8</td>\n",
       "    </tr>\n",
       "    <tr>\n",
       "      <th>...</th>\n",
       "      <td>...</td>\n",
       "      <td>...</td>\n",
       "    </tr>\n",
       "    <tr>\n",
       "      <th>Ukraine</th>\n",
       "      <td>48415300</td>\n",
       "      <td>14541</td>\n",
       "    </tr>\n",
       "    <tr>\n",
       "      <th>United Kingdom</th>\n",
       "      <td>54746964</td>\n",
       "      <td>4315</td>\n",
       "    </tr>\n",
       "    <tr>\n",
       "      <th>United States</th>\n",
       "      <td>243164200</td>\n",
       "      <td>31272</td>\n",
       "    </tr>\n",
       "    <tr>\n",
       "      <th>Uruguay</th>\n",
       "      <td>2943816</td>\n",
       "      <td>427</td>\n",
       "    </tr>\n",
       "    <tr>\n",
       "      <th>Uzbekistan</th>\n",
       "      <td>19599000</td>\n",
       "      <td>1485</td>\n",
       "    </tr>\n",
       "  </tbody>\n",
       "</table>\n",
       "<p>78 rows × 2 columns</p>\n",
       "</div>"
      ],
      "text/plain": [
       "                     population  suicides_no\n",
       "country                                     \n",
       "Albania                 2903400           88\n",
       "Antigua and Barbuda       66846            0\n",
       "Argentina              31345400         2204\n",
       "Armenia                 3443200          130\n",
       "Aruba                     73581            8\n",
       "...                         ...          ...\n",
       "Ukraine                48415300        14541\n",
       "United Kingdom         54746964         4315\n",
       "United States         243164200        31272\n",
       "Uruguay                 2943816          427\n",
       "Uzbekistan             19599000         1485\n",
       "\n",
       "[78 rows x 2 columns]"
      ]
     },
     "execution_count": 457,
     "metadata": {},
     "output_type": "execute_result"
    }
   ],
   "source": [
    "avg_1995 = tidy_df[tidy_df.year == 1995].groupby('country')[['population','suicides_no']].sum(numeric_only=True)\n",
    "\n",
    "avg_1995"
   ]
  },
  {
   "cell_type": "code",
   "execution_count": null,
   "metadata": {},
   "outputs": [],
   "source": []
  },
  {
   "cell_type": "code",
   "execution_count": null,
   "metadata": {},
   "outputs": [],
   "source": []
  },
  {
   "cell_type": "code",
   "execution_count": 449,
   "metadata": {},
   "outputs": [
    {
     "data": {
      "text/plain": [
       "10.852000427856758"
      ]
     },
     "execution_count": 449,
     "metadata": {},
     "output_type": "execute_result"
    }
   ],
   "source": [
    "test = tidy_df[tidy_df.year == 2015].groupby('country')[\n",
    "    ['country','population', 'suicides_no']].sum(numeric_only=True)\n",
    "test['per100k'] = (\n",
    "    test['suicides_no'] / test['population']) * 100_000\n",
    "test.per100k.mean()"
   ]
  },
  {
   "cell_type": "code",
   "execution_count": 450,
   "metadata": {},
   "outputs": [
    {
     "data": {
      "text/plain": [
       "[<matplotlib.axis.XTick at 0x7fbf7e5af640>,\n",
       " <matplotlib.axis.XTick at 0x7fbf7e5af610>,\n",
       " <matplotlib.axis.XTick at 0x7fbf7e5d3f10>,\n",
       " <matplotlib.axis.XTick at 0x7fbf7e5f8f70>,\n",
       " <matplotlib.axis.XTick at 0x7fbf7e5f9840>,\n",
       " <matplotlib.axis.XTick at 0x7fbf7e5fa020>,\n",
       " <matplotlib.axis.XTick at 0x7fbf7e5fa800>,\n",
       " <matplotlib.axis.XTick at 0x7fbf7e5fa170>,\n",
       " <matplotlib.axis.XTick at 0x7fbf7e5f82b0>,\n",
       " <matplotlib.axis.XTick at 0x7fbf7e5af280>,\n",
       " <matplotlib.axis.XTick at 0x7fbf7e6200d0>,\n",
       " <matplotlib.axis.XTick at 0x7fbf7e621930>,\n",
       " <matplotlib.axis.XTick at 0x7fbf7e622110>,\n",
       " <matplotlib.axis.XTick at 0x7fbf3dcd1900>,\n",
       " <matplotlib.axis.XTick at 0x7fbf7e622290>,\n",
       " <matplotlib.axis.XTick at 0x7fbf7e622980>,\n",
       " <matplotlib.axis.XTick at 0x7fbf7e623160>,\n",
       " <matplotlib.axis.XTick at 0x7fbf7e623940>,\n",
       " <matplotlib.axis.XTick at 0x7fbf7e623220>,\n",
       " <matplotlib.axis.XTick at 0x7fbf7e622f50>,\n",
       " <matplotlib.axis.XTick at 0x7fbf7e5fafb0>,\n",
       " <matplotlib.axis.XTick at 0x7fbf7e648af0>,\n",
       " <matplotlib.axis.XTick at 0x7fbf7e6492d0>,\n",
       " <matplotlib.axis.XTick at 0x7fbf7e649ab0>,\n",
       " <matplotlib.axis.XTick at 0x7fbf7e623f10>,\n",
       " <matplotlib.axis.XTick at 0x7fbf7e648970>,\n",
       " <matplotlib.axis.XTick at 0x7fbf7e64a440>,\n",
       " <matplotlib.axis.XTick at 0x7fbf7e64ac20>,\n",
       " <matplotlib.axis.XTick at 0x7fbf7e64b400>,\n",
       " <matplotlib.axis.XTick at 0x7fbf7e6211e0>,\n",
       " <matplotlib.axis.XTick at 0x7fbf7e649f90>]"
      ]
     },
     "execution_count": 450,
     "metadata": {},
     "output_type": "execute_result"
    },
    {
     "data": {
      "image/png": "[encoded data removed]",
      "text/plain": [
       "<Figure size 1500x500 with 1 Axes>"
      ]
     },
     "metadata": {},
     "output_type": "display_data"
    }
   ],
   "source": [
    "# plot avg per 100k rate across all coutnries per year in a line plot\n",
    "test = tidy_df.groupby(['year', 'country'])[\n",
    "    ['population', 'suicides_no']].sum(numeric_only=True)\n",
    "test['per100k'] = (test['suicides_no'] / test['population']) * 100_000\n",
    "# test.mean('per100k', axis='column')\n",
    "test = test.reset_index().groupby('year').per100k.mean()\n",
    "\n",
    "\n",
    "fig, ax = plt.subplots(figsize=(15,5)) #for size of figure\n",
    "\n",
    "t = sns.lineplot(data=test,markers=True, ax=ax)\n",
    "ticks = range(1985,2016)\n",
    "t.set_xticks(ticks, labels=ticks)\n",
    "\n",
    "\n"
   ]
  },
  {
   "cell_type": "markdown",
   "metadata": {},
   "source": []
  },
  {
   "cell_type": "code",
   "execution_count": 451,
   "metadata": {},
   "outputs": [],
   "source": [
    "\n",
    "# corr = by_country_and_year.reset_index().corr()\n",
    "# sns.heatmap(corr, annot=True)"
   ]
  },
  {
   "cell_type": "code",
   "execution_count": null,
   "metadata": {},
   "outputs": [],
   "source": []
  }
 ],
 "metadata": {
  "kernelspec": {
   "display_name": "bdp",
   "language": "python",
   "name": "python3"
  },
  "language_info": {
   "codemirror_mode": {
    "name": "ipython",
    "version": 3
   },
   "file_extension": ".py",
   "mimetype": "text/x-python",
   "name": "python",
   "nbconvert_exporter": "python",
   "pygments_lexer": "ipython3",
   "version": "3.10.9"
  },
  "orig_nbformat": 4,
  "vscode": {
   "interpreter": {
    "hash": "43111e0ce7511cd5a16c8ac375aea18daa53d87cc3a459f535c84d544006fbe2"
   }
  }
 },
 "nbformat": 4,
 "nbformat_minor": 2
}
