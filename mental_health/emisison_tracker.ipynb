{
 "cells": [
  {
   "cell_type": "code",
   "execution_count": 1,
   "metadata": {},
   "outputs": [],
   "source": [
    "import pandas as pd\n",
    "import seaborn as sns"
   ]
  },
  {
   "cell_type": "code",
   "execution_count": 9,
   "metadata": {},
   "outputs": [
    {
     "data": {
      "text/plain": [
       "Index(['timestamp', 'project_name', 'run_id', 'duration', 'emissions',\n",
       "       'emissions_rate', 'cpu_power', 'gpu_power', 'ram_power', 'cpu_energy',\n",
       "       'gpu_energy', 'ram_energy', 'energy_consumed', 'country_name',\n",
       "       'country_iso_code', 'region', 'cloud_provider', 'cloud_region', 'os',\n",
       "       'python_version', 'cpu_count', 'cpu_model', 'gpu_count', 'gpu_model',\n",
       "       'longitude', 'latitude', 'ram_total_size', 'tracking_mode', 'on_cloud'],\n",
       "      dtype='object')"
      ]
     },
     "execution_count": 9,
     "metadata": {},
     "output_type": "execute_result"
    }
   ],
   "source": [
    "df = pd.read_csv('emissions.csv')\n",
    "df.columns"
   ]
  },
  {
   "cell_type": "code",
   "execution_count": 10,
   "metadata": {},
   "outputs": [],
   "source": [
    "df = df[df.project_name.isin(['linear_default','tree_md_18_ms_4','forest_ne_30_md_18_ms_2','MLP'])]\n",
    "df = df.replace({\n",
    "    'linear_default': 'linear',\n",
    "    'tree_md_18_ms_4': 'tree',\n",
    "    'forest_ne_30_md_18_ms_2': 'forest'\n",
    "})\n",
    "df.to_csv('cleaned_emissions.csv')"
   ]
  },
  {
   "cell_type": "code",
   "execution_count": 4,
   "metadata": {},
   "outputs": [],
   "source": [
    "# ax = sns.barplot(df, x='project_name', y='emissions', log=True)\n",
    "# # ax.legend(labels=df.project_name.values)\n",
    "# ax.set_ylabel('emissions in $CO_2eq$')\n",
    "# ax.set_xlabel(None)"
   ]
  },
  {
   "cell_type": "code",
   "execution_count": 11,
   "metadata": {},
   "outputs": [
    {
     "data": {
      "text/html": [
       "<div>\n",
       "<style scoped>\n",
       "    .dataframe tbody tr th:only-of-type {\n",
       "        vertical-align: middle;\n",
       "    }\n",
       "\n",
       "    .dataframe tbody tr th {\n",
       "        vertical-align: top;\n",
       "    }\n",
       "\n",
       "    .dataframe thead th {\n",
       "        text-align: right;\n",
       "    }\n",
       "</style>\n",
       "<table border=\"1\" class=\"dataframe\">\n",
       "  <thead>\n",
       "    <tr style=\"text-align: right;\">\n",
       "      <th></th>\n",
       "      <th>Unnamed: 0</th>\n",
       "      <th>timestamp</th>\n",
       "      <th>project_name</th>\n",
       "      <th>run_id</th>\n",
       "      <th>duration</th>\n",
       "      <th>emissions</th>\n",
       "      <th>emissions_rate</th>\n",
       "      <th>cpu_power</th>\n",
       "      <th>gpu_power</th>\n",
       "      <th>ram_power</th>\n",
       "      <th>...</th>\n",
       "      <th>python_version</th>\n",
       "      <th>cpu_count</th>\n",
       "      <th>cpu_model</th>\n",
       "      <th>gpu_count</th>\n",
       "      <th>gpu_model</th>\n",
       "      <th>longitude</th>\n",
       "      <th>latitude</th>\n",
       "      <th>ram_total_size</th>\n",
       "      <th>tracking_mode</th>\n",
       "      <th>on_cloud</th>\n",
       "    </tr>\n",
       "  </thead>\n",
       "  <tbody>\n",
       "    <tr>\n",
       "      <th>0</th>\n",
       "      <td>0</td>\n",
       "      <td>2023-04-24T10:16:14</td>\n",
       "      <td>linear</td>\n",
       "      <td>28bed84c-82fe-4660-a0ba-33d82d5598e0</td>\n",
       "      <td>0.015883</td>\n",
       "      <td>5.014003e-09</td>\n",
       "      <td>0.000316</td>\n",
       "      <td>5.0</td>\n",
       "      <td>0.0</td>\n",
       "      <td>6.0</td>\n",
       "      <td>...</td>\n",
       "      <td>3.10.9</td>\n",
       "      <td>8</td>\n",
       "      <td>Apple M1 Pro</td>\n",
       "      <td>NaN</td>\n",
       "      <td>NaN</td>\n",
       "      <td>12.5892</td>\n",
       "      <td>55.6802</td>\n",
       "      <td>16.0</td>\n",
       "      <td>machine</td>\n",
       "      <td>N</td>\n",
       "    </tr>\n",
       "    <tr>\n",
       "      <th>1</th>\n",
       "      <td>17</td>\n",
       "      <td>2023-04-24T10:17:57</td>\n",
       "      <td>tree</td>\n",
       "      <td>c21ae661-6fbc-4faa-95d3-68a1594dff66</td>\n",
       "      <td>0.010957</td>\n",
       "      <td>3.419095e-09</td>\n",
       "      <td>0.000312</td>\n",
       "      <td>5.0</td>\n",
       "      <td>0.0</td>\n",
       "      <td>6.0</td>\n",
       "      <td>...</td>\n",
       "      <td>3.10.9</td>\n",
       "      <td>8</td>\n",
       "      <td>Apple M1 Pro</td>\n",
       "      <td>NaN</td>\n",
       "      <td>NaN</td>\n",
       "      <td>12.5892</td>\n",
       "      <td>55.6802</td>\n",
       "      <td>16.0</td>\n",
       "      <td>machine</td>\n",
       "      <td>N</td>\n",
       "    </tr>\n",
       "    <tr>\n",
       "      <th>2</th>\n",
       "      <td>40</td>\n",
       "      <td>2023-04-24T10:20:37</td>\n",
       "      <td>forest</td>\n",
       "      <td>5a8e3940-c4d6-40aa-ada1-22b860c043d5</td>\n",
       "      <td>0.148096</td>\n",
       "      <td>5.211122e-08</td>\n",
       "      <td>0.000352</td>\n",
       "      <td>5.0</td>\n",
       "      <td>0.0</td>\n",
       "      <td>6.0</td>\n",
       "      <td>...</td>\n",
       "      <td>3.10.9</td>\n",
       "      <td>8</td>\n",
       "      <td>Apple M1 Pro</td>\n",
       "      <td>NaN</td>\n",
       "      <td>NaN</td>\n",
       "      <td>12.5892</td>\n",
       "      <td>55.6802</td>\n",
       "      <td>16.0</td>\n",
       "      <td>machine</td>\n",
       "      <td>N</td>\n",
       "    </tr>\n",
       "    <tr>\n",
       "      <th>3</th>\n",
       "      <td>41</td>\n",
       "      <td>2023-04-24T10:24:05</td>\n",
       "      <td>MLP</td>\n",
       "      <td>0ae3e75b-869c-445e-8933-3a4f12f60466</td>\n",
       "      <td>55.319201</td>\n",
       "      <td>1.960548e-05</td>\n",
       "      <td>0.000354</td>\n",
       "      <td>5.0</td>\n",
       "      <td>0.0</td>\n",
       "      <td>6.0</td>\n",
       "      <td>...</td>\n",
       "      <td>3.10.9</td>\n",
       "      <td>8</td>\n",
       "      <td>Apple M1 Pro</td>\n",
       "      <td>NaN</td>\n",
       "      <td>NaN</td>\n",
       "      <td>12.5892</td>\n",
       "      <td>55.6802</td>\n",
       "      <td>16.0</td>\n",
       "      <td>machine</td>\n",
       "      <td>N</td>\n",
       "    </tr>\n",
       "  </tbody>\n",
       "</table>\n",
       "<p>4 rows × 30 columns</p>\n",
       "</div>"
      ],
      "text/plain": [
       "   Unnamed: 0            timestamp project_name  \\\n",
       "0           0  2023-04-24T10:16:14       linear   \n",
       "1          17  2023-04-24T10:17:57         tree   \n",
       "2          40  2023-04-24T10:20:37       forest   \n",
       "3          41  2023-04-24T10:24:05          MLP   \n",
       "\n",
       "                                 run_id   duration     emissions  \\\n",
       "0  28bed84c-82fe-4660-a0ba-33d82d5598e0   0.015883  5.014003e-09   \n",
       "1  c21ae661-6fbc-4faa-95d3-68a1594dff66   0.010957  3.419095e-09   \n",
       "2  5a8e3940-c4d6-40aa-ada1-22b860c043d5   0.148096  5.211122e-08   \n",
       "3  0ae3e75b-869c-445e-8933-3a4f12f60466  55.319201  1.960548e-05   \n",
       "\n",
       "   emissions_rate  cpu_power  gpu_power  ram_power  ...  python_version  \\\n",
       "0        0.000316        5.0        0.0        6.0  ...          3.10.9   \n",
       "1        0.000312        5.0        0.0        6.0  ...          3.10.9   \n",
       "2        0.000352        5.0        0.0        6.0  ...          3.10.9   \n",
       "3        0.000354        5.0        0.0        6.0  ...          3.10.9   \n",
       "\n",
       "   cpu_count     cpu_model  gpu_count gpu_model longitude latitude  \\\n",
       "0          8  Apple M1 Pro        NaN       NaN   12.5892  55.6802   \n",
       "1          8  Apple M1 Pro        NaN       NaN   12.5892  55.6802   \n",
       "2          8  Apple M1 Pro        NaN       NaN   12.5892  55.6802   \n",
       "3          8  Apple M1 Pro        NaN       NaN   12.5892  55.6802   \n",
       "\n",
       "   ram_total_size  tracking_mode on_cloud  \n",
       "0            16.0        machine        N  \n",
       "1            16.0        machine        N  \n",
       "2            16.0        machine        N  \n",
       "3            16.0        machine        N  \n",
       "\n",
       "[4 rows x 30 columns]"
      ]
     },
     "execution_count": 11,
     "metadata": {},
     "output_type": "execute_result"
    }
   ],
   "source": [
    "pd.read_csv('cleaned_emissions.csv')"
   ]
  },
  {
   "cell_type": "code",
   "execution_count": 5,
   "metadata": {},
   "outputs": [
    {
     "data": {
      "image/png": "[encoded data removed]",
      "text/plain": [
       "<Figure size 1000x500 with 1 Axes>"
      ]
     },
     "metadata": {},
     "output_type": "display_data"
    }
   ],
   "source": [
    "from analysis import ModelAnalysis\n",
    "ma = ModelAnalysis(models={})\n",
    "ma.visualize_carbon()"
   ]
  },
  {
   "cell_type": "code",
   "execution_count": 6,
   "metadata": {},
   "outputs": [
    {
     "data": {
      "image/png": "[encoded data removed]",
      "text/plain": [
       "<Figure size 1000x500 with 1 Axes>"
      ]
     },
     "metadata": {},
     "output_type": "display_data"
    }
   ],
   "source": [
    "ma.visualize_carbon(y='cpu_energy')"
   ]
  }
 ],
 "metadata": {
  "kernelspec": {
   "display_name": "bdp",
   "language": "python",
   "name": "python3"
  },
  "language_info": {
   "codemirror_mode": {
    "name": "ipython",
    "version": 3
   },
   "file_extension": ".py",
   "mimetype": "text/x-python",
   "name": "python",
   "nbconvert_exporter": "python",
   "pygments_lexer": "ipython3",
   "version": "3.10.9"
  },
  "orig_nbformat": 4
 },
 "nbformat": 4,
 "nbformat_minor": 2
}
