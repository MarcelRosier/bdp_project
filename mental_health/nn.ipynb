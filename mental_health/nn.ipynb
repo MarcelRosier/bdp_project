{
 "cells": [
  {
   "cell_type": "code",
   "execution_count": 1,
   "metadata": {},
   "outputs": [],
   "source": [
    "import pandas as pd\n",
    "import numpy as np\n",
    "import matplotlib.pylab as plt\n",
    "import seaborn as sns\n",
    "from codecarbon import EmissionsTracker\n",
    "import os\n",
    "import utils\n",
    "plt.style.use('ggplot')\n",
    "pd.set_option('display.max_columns', 200)\n",
    "pd.set_option('display.float_format', lambda x: '%.10f' % x)\n",
    "\n",
    "import torch\n",
    "from torch.utils.data import Dataset, DataLoader\n",
    "from torch import nn\n"
   ]
  },
  {
   "cell_type": "code",
   "execution_count": 2,
   "metadata": {},
   "outputs": [
    {
     "data": {
      "text/plain": [
       "dtype('float64')"
      ]
     },
     "execution_count": 2,
     "metadata": {},
     "output_type": "execute_result"
    }
   ],
   "source": [
    "splits = utils.get_train_val_test_split()\n",
    "\n",
    "X_train, y_train = splits['train']['X'], splits['train']['y']\n",
    "X_val, y_val = splits['val']['X'], splits['val']['y']\n",
    "X_test, y_test = splits['test']['X'], splits['test']['y']\n",
    "y_train.dtype\n"
   ]
  },
  {
   "cell_type": "code",
   "execution_count": 3,
   "metadata": {},
   "outputs": [],
   "source": [
    "from typing import Tuple\n",
    "\n",
    "\n",
    "class SuicideDataSet(Dataset):\n",
    "    def __init__(self, split: str = 'train'):\n",
    "        self.split = split\n",
    "        self.splits = utils.get_train_val_test_split()\n",
    "\n",
    "    def __len__(self):\n",
    "        return len(self.splits[self.split]['y'])\n",
    "\n",
    "    def __getitem__(self, idx: int) -> Tuple[torch.Tensor, torch.Tensor]:\n",
    "        ftrs = self.splits[self.split]['X'][idx]\n",
    "        label = self.splits[self.split]['y'][idx]\n",
    "        ftrs = torch.tensor(ftrs).float()\n",
    "        label = torch.tensor(label).float()\n",
    "        return ftrs, label\n"
   ]
  },
  {
   "cell_type": "code",
   "execution_count": 4,
   "metadata": {},
   "outputs": [],
   "source": [
    "class SuicideRegressor(nn.Module):\n",
    "    def __init__(self, in_features) -> None:\n",
    "        super().__init__()\n",
    "        self.model = nn.Sequential(\n",
    "            nn.Linear(in_features,512),\n",
    "            nn.ReLU(),\n",
    "            nn.Linear(512,256),\n",
    "            nn.ReLU(),\n",
    "            nn.Linear(256,64),\n",
    "            nn.ReLU(),\n",
    "            nn.Linear(64,8),\n",
    "            nn.ReLU(),\n",
    "            nn.Linear(8,1),\n",
    "        )\n",
    "\n",
    "    def forward(self, x):\n",
    "        return self.model(x)"
   ]
  },
  {
   "cell_type": "code",
   "execution_count": 5,
   "metadata": {},
   "outputs": [],
   "source": [
    "class SuicideRegressorBN(nn.Module):\n",
    "    def __init__(self, in_features) -> None:\n",
    "        super().__init__()\n",
    "        self.model = nn.Sequential(\n",
    "            nn.BatchNorm1d(num_features=in_features),\n",
    "            nn.Linear(in_features, 512),\n",
    "            nn.ReLU(),\n",
    "            nn.BatchNorm1d(num_features=512),\n",
    "            nn.Linear(512, 256),\n",
    "            nn.ReLU(),\n",
    "            nn.BatchNorm1d(num_features=256),\n",
    "            nn.Linear(256, 64),\n",
    "            nn.ReLU(),\n",
    "            nn.BatchNorm1d(num_features=64),\n",
    "            nn.Linear(64, 8),\n",
    "            nn.ReLU(),\n",
    "            nn.BatchNorm1d(num_features=8),\n",
    "            nn.Linear(8, 1),\n",
    "        )\n",
    "\n",
    "    def forward(self, x):\n",
    "        return self.model(x)"
   ]
  },
  {
   "cell_type": "code",
   "execution_count": 16,
   "metadata": {},
   "outputs": [],
   "source": [
    "class SuicideRegressorDrop(nn.Module):\n",
    "    def __init__(self, in_features, do_p=.15) -> None:\n",
    "        super().__init__()\n",
    "        self.model = nn.Sequential(\n",
    "            nn.BatchNorm1d(num_features=in_features),\n",
    "            nn.Linear(in_features, 512),\n",
    "            nn.ReLU(),\n",
    "            nn.Dropout(do_p),\n",
    "            nn.BatchNorm1d(num_features=512),\n",
    "            nn.Linear(512, 256),\n",
    "            nn.ReLU(),\n",
    "            nn.Dropout(do_p),\n",
    "            nn.BatchNorm1d(num_features=256),\n",
    "            nn.Linear(256, 64),\n",
    "            nn.ReLU(),\n",
    "            nn.Dropout(do_p),\n",
    "            nn.BatchNorm1d(num_features=64),\n",
    "            nn.Linear(64, 8),\n",
    "            nn.ReLU(),\n",
    "            nn.Dropout(do_p),\n",
    "            nn.BatchNorm1d(num_features=8),\n",
    "            nn.Linear(8, 1),\n",
    "        )\n",
    "\n",
    "    def forward(self, x):\n",
    "        return self.model(x)"
   ]
  },
  {
   "attachments": {},
   "cell_type": "markdown",
   "metadata": {},
   "source": [
    "## Train model"
   ]
  },
  {
   "cell_type": "code",
   "execution_count": 17,
   "metadata": {},
   "outputs": [
    {
     "name": "stdout",
     "output_type": "stream",
     "text": [
      "[tensor([[ 0.8901, -1.4374, -1.0030,  ...,  0.6084, -0.3273,  1.0546],\n",
      "        [-1.5469, -0.2279, -1.0030,  ...,  0.3443, -0.7312, -0.2341],\n",
      "        [-0.8052, -0.2279,  0.9970,  ..., -0.9762, -0.1108, -0.5076],\n",
      "        ...,\n",
      "        [-1.5469, -0.2279, -1.0030,  ...,  0.3443, -0.8611, -0.4018],\n",
      "        [-1.1231,  0.9817, -1.0030,  ..., -1.5308,  2.0967, -0.4146],\n",
      "        [-1.6529, -0.2279, -1.0030,  ...,  0.4235, -0.4571, -0.4450]]), tensor([17.9800, 15.7000, 25.1400,  ...,  4.2400,  2.7000, 14.3800])]\n"
     ]
    }
   ],
   "source": [
    "train_ds = SuicideDataSet(split='train')\n",
    "train_loader = DataLoader(dataset=train_ds, batch_size=1788)\n",
    "\n",
    "val_ds = SuicideDataSet(split='val')\n",
    "val_loader = DataLoader(dataset=val_ds, batch_size=276)\n",
    "\n",
    "a = iter(train_loader)\n",
    "b = a._next_data()\n",
    "print(b)\n",
    "# print(b)\n"
   ]
  },
  {
   "cell_type": "code",
   "execution_count": 18,
   "metadata": {},
   "outputs": [],
   "source": [
    "from torch.utils.tensorboard import SummaryWriter\n",
    "from datetime import datetime\n",
    "writer = SummaryWriter(log_dir=f\"./tb_logs/{datetime.now().strftime('%Y-%m-%d_%H:%M')}\")\n",
    "\n"
   ]
  },
  {
   "cell_type": "code",
   "execution_count": 19,
   "metadata": {},
   "outputs": [],
   "source": [
    "model = SuicideRegressorDrop(in_features=9, do_p=.1)\n",
    "\n",
    "dataiter = iter(train_loader)\n",
    "X, y = next(dataiter)\n",
    "writer.add_graph(model, X)\n",
    "writer.flush()"
   ]
  },
  {
   "cell_type": "code",
   "execution_count": 20,
   "metadata": {},
   "outputs": [
    {
     "name": "stderr",
     "output_type": "stream",
     "text": [
      "[codecarbon INFO @ 16:42:16] [setup] RAM Tracking...\n",
      "[codecarbon INFO @ 16:42:16] [setup] GPU Tracking...\n",
      "[codecarbon INFO @ 16:42:16] No GPU found.\n",
      "[codecarbon INFO @ 16:42:16] [setup] CPU Tracking...\n",
      "[codecarbon WARNING @ 16:42:16] No CPU tracking mode found. Falling back on CPU constant mode.\n",
      "[codecarbon INFO @ 16:42:18] CPU Model on constant consumption mode: Apple M1 Pro\n",
      "[codecarbon INFO @ 16:42:18] >>> Tracker's metadata:\n",
      "[codecarbon INFO @ 16:42:18]   Platform system: macOS-10.16-x86_64-i386-64bit\n",
      "[codecarbon INFO @ 16:42:18]   Python version: 3.10.9\n",
      "[codecarbon INFO @ 16:42:18]   Available RAM : 16.000 GB\n",
      "[codecarbon INFO @ 16:42:18]   CPU count: 8\n",
      "[codecarbon INFO @ 16:42:18]   CPU model: Apple M1 Pro\n",
      "[codecarbon INFO @ 16:42:18]   GPU count: None\n",
      "[codecarbon INFO @ 16:42:18]   GPU model: None\n"
     ]
    },
    {
     "name": "stdout",
     "output_type": "stream",
     "text": [
      "epoch : 1/400, train_loss = 477.023315\n",
      "epoch : 1/400, val_loss = 501.423859\n"
     ]
    },
    {
     "name": "stderr",
     "output_type": "stream",
     "text": [
      "[codecarbon INFO @ 16:42:36] Energy consumed for RAM : 0.000025 kWh. RAM Power : 6.0 W\n",
      "[codecarbon INFO @ 16:42:36] Energy consumed for all CPUs : 0.000021 kWh. All CPUs Power : 5.0 W\n",
      "[codecarbon INFO @ 16:42:36] 0.000046 kWh of electricity used since the begining.\n",
      "[codecarbon INFO @ 16:42:51] Energy consumed for RAM : 0.000050 kWh. RAM Power : 6.0 W\n",
      "[codecarbon INFO @ 16:42:51] Energy consumed for all CPUs : 0.000042 kWh. All CPUs Power : 5.0 W\n",
      "[codecarbon INFO @ 16:42:51] 0.000092 kWh of electricity used since the begining.\n"
     ]
    },
    {
     "name": "stdout",
     "output_type": "stream",
     "text": [
      "epoch : 201/400, train_loss = 53.804707\n",
      "epoch : 201/400, val_loss = 35.736130\n"
     ]
    },
    {
     "name": "stderr",
     "output_type": "stream",
     "text": [
      "[codecarbon INFO @ 16:43:06] Energy consumed for RAM : 0.000075 kWh. RAM Power : 6.0 W\n",
      "[codecarbon INFO @ 16:43:06] Energy consumed for all CPUs : 0.000063 kWh. All CPUs Power : 5.0 W\n",
      "[codecarbon INFO @ 16:43:06] 0.000138 kWh of electricity used since the begining.\n",
      "[codecarbon INFO @ 16:43:21] Energy consumed for RAM : 0.000100 kWh. RAM Power : 6.0 W\n",
      "[codecarbon INFO @ 16:43:21] Energy consumed for all CPUs : 0.000083 kWh. All CPUs Power : 5.0 W\n",
      "[codecarbon INFO @ 16:43:21] 0.000183 kWh of electricity used since the begining.\n",
      "[codecarbon INFO @ 16:43:22] Energy consumed for RAM : 0.000101 kWh. RAM Power : 6.0 W\n",
      "[codecarbon INFO @ 16:43:22] Energy consumed for all CPUs : 0.000084 kWh. All CPUs Power : 5.0 W\n",
      "[codecarbon INFO @ 16:43:22] 0.000185 kWh of electricity used since the begining.\n"
     ]
    },
    {
     "data": {
      "text/plain": [
       "2.1447697204218973e-05"
      ]
     },
     "execution_count": 20,
     "metadata": {},
     "output_type": "execute_result"
    }
   ],
   "source": [
    "\n",
    "tracker = EmissionsTracker(project_name=\"MLP\")\n",
    "tracker.start()\n",
    "\n",
    "EPOCHS = 400\n",
    "model = SuicideRegressorDrop(in_features=9)\n",
    "criterion = nn.MSELoss()\n",
    "optim = torch.optim.Adam(\n",
    "    params=model.parameters(),\n",
    "    lr=5e-3,\n",
    "    weight_decay=1e-4\n",
    ")\n",
    "\n",
    "\n",
    "\n",
    "\n",
    "for epoch in range(EPOCHS):\n",
    "    model.train()\n",
    "    loss = 0\n",
    "    for batch_ftrs, batch_labels in train_loader:\n",
    "        optim.zero_grad()\n",
    "        y_pred = model(batch_ftrs)\n",
    "        train_loss = criterion(y_pred[:,0], batch_labels)\n",
    "        train_loss.backward()\n",
    "\n",
    "        optim.step()\n",
    "        loss += train_loss.item()\n",
    "\n",
    "    loss = loss / len(train_loader)\n",
    "\n",
    "    # compute validation loss\n",
    "    val_loss = 0\n",
    "    with torch.no_grad():\n",
    "        model.eval()\n",
    "        for batch_ftrs, batch_labels in val_loader:\n",
    "            y_pred = model(batch_ftrs)\n",
    "            cur_loss = criterion(y_pred[:,0], batch_labels)\n",
    "            val_loss += cur_loss.item()\n",
    "        val_loss = val_loss / len(val_loader)\n",
    "    # prints\n",
    "    if epoch % 200 == 0:\n",
    "        print(\"epoch : {}/{}, train_loss = {:.6f}\".format(epoch + 1, EPOCHS, loss))\n",
    "        print(\"epoch : {}/{}, val_loss = {:.6f}\".format(epoch + 1, EPOCHS, val_loss))\n",
    "     # add scalars to tensorboard\n",
    "    writer.add_scalar(f\"{criterion}/train\", loss, epoch + 1)\n",
    "    writer.add_scalar(f\"{criterion}/val\", val_loss, epoch + 1)\n",
    "    writer.add_scalars(\"comp\", {'train':loss, 'val':val_loss}, epoch+1)\n",
    "\n",
    "    writer.flush()\n",
    "\n",
    "tracker.stop()"
   ]
  },
  {
   "cell_type": "code",
   "execution_count": 21,
   "metadata": {},
   "outputs": [],
   "source": [
    "# torch.save(model, \"torch_models/bn_do_10.pickle\")"
   ]
  },
  {
   "cell_type": "code",
   "execution_count": 26,
   "metadata": {},
   "outputs": [],
   "source": [
    "from sklearn.metrics import mean_squared_error, mean_absolute_error, median_absolute_error\n",
    "\n",
    "with torch.no_grad():\n",
    "    model.eval()\n",
    "    pred = model(torch.tensor(X_val).float())\n",
    "    custom_mlp_pred = pred[:, 0]\n"
   ]
  },
  {
   "attachments": {},
   "cell_type": "markdown",
   "metadata": {},
   "source": [
    "## compare with sklearn MLP"
   ]
  },
  {
   "cell_type": "code",
   "execution_count": null,
   "metadata": {},
   "outputs": [],
   "source": [
    "from sklearn.neural_network import MLPRegressor\n",
    "\n",
    "mlp_model = MLPRegressor(\n",
    "    hidden_layer_sizes=[512,256,64,8],\n",
    "    max_iter=3000,\n",
    "    activation='relu')\n",
    "mlp_model.fit(X_train_std,Y_train)"
   ]
  },
  {
   "cell_type": "code",
   "execution_count": null,
   "metadata": {},
   "outputs": [],
   "source": [
    "mlp_pred = mlp_model.predict(X_test_std)\n",
    "metrics = [mean_squared_error, mean_absolute_error, median_absolute_error]\n",
    "model_preds = {\n",
    "    'mlp': mlp_pred,\n",
    "    'custom_mlp': custom_mlp_pred\n",
    "}\n",
    "\n",
    "\n",
    "for metric in metrics:\n",
    "    print(f\"{metric.__name__} eval:\")\n",
    "    for model, pred in model_preds.items():\n",
    "        score = metric(y_true=Y_test, y_pred=pred)\n",
    "        print(f\"{model}: {score}\")\n",
    "    print('-'*10)"
   ]
  },
  {
   "cell_type": "code",
   "execution_count": null,
   "metadata": {},
   "outputs": [],
   "source": [
    "n_samples = 50\n",
    "pred_df = pd.DataFrame({\n",
    "    'sklearn_mlp_pred': mlp_model.predict(X_test_std)[:n_samples],\n",
    "    'custom_mlp_pred' : custom_mlp_pred[:n_samples],\n",
    "    'ground_truth': Y_test[:n_samples]\n",
    "})\n",
    "sns.scatterplot(pred_df, markers=True, alpha=.6)\n",
    "sns.lineplot(pred_df)"
   ]
  }
 ],
 "metadata": {
  "kernelspec": {
   "display_name": "bdp",
   "language": "python",
   "name": "python3"
  },
  "language_info": {
   "codemirror_mode": {
    "name": "ipython",
    "version": 3
   },
   "file_extension": ".py",
   "mimetype": "text/x-python",
   "name": "python",
   "nbconvert_exporter": "python",
   "pygments_lexer": "ipython3",
   "version": "3.10.9"
  },
  "orig_nbformat": 4
 },
 "nbformat": 4,
 "nbformat_minor": 2
}
