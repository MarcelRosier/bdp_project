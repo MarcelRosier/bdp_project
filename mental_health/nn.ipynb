{
 "cells": [
  {
   "cell_type": "code",
   "execution_count": 1,
   "metadata": {},
   "outputs": [],
   "source": [
    "import pandas as pd\n",
    "import numpy as np\n",
    "import matplotlib.pylab as plt\n",
    "import seaborn as sns\n",
    "import os\n",
    "import utils\n",
    "plt.style.use('ggplot')\n",
    "pd.set_option('display.max_columns', 200)\n",
    "pd.set_option('display.float_format', lambda x: '%.10f' % x)\n",
    "\n",
    "import torch\n",
    "from torch.utils.data import Dataset, DataLoader\n",
    "from torch import nn\n"
   ]
  },
  {
   "cell_type": "code",
   "execution_count": 3,
   "metadata": {},
   "outputs": [
    {
     "data": {
      "text/plain": [
       "dtype('float64')"
      ]
     },
     "execution_count": 3,
     "metadata": {},
     "output_type": "execute_result"
    }
   ],
   "source": [
    "splits = utils.get_train_val_test_split()\n",
    "\n",
    "X_train, y_train = splits['train']['X'], splits['train']['y']\n",
    "X_val, y_val = splits['val']['X'], splits['val']['y']\n",
    "X_test, y_test = splits['test']['X'], splits['test']['y']\n",
    "y_train.dtype\n"
   ]
  },
  {
   "cell_type": "code",
   "execution_count": 10,
   "metadata": {},
   "outputs": [],
   "source": [
    "from typing import Tuple\n",
    "\n",
    "\n",
    "class SuicideDataSet(Dataset):\n",
    "    def __init__(self, split: str = 'train'):\n",
    "        self.split = split\n",
    "        self.splits = utils.get_train_val_test_split()\n",
    "\n",
    "    def __len__(self):\n",
    "        return len(self.splits[self.split]['y'])\n",
    "\n",
    "    def __getitem__(self, idx: int) -> Tuple[torch.Tensor, torch.Tensor]:\n",
    "        ftrs = self.splits[self.split]['X'][idx]\n",
    "        label = self.splits[self.split]['y'][idx]\n",
    "        ftrs = torch.tensor(ftrs).float()\n",
    "        label = torch.tensor(label).float()\n",
    "        return ftrs, label\n"
   ]
  },
  {
   "cell_type": "code",
   "execution_count": 11,
   "metadata": {},
   "outputs": [],
   "source": [
    "class SuicideRegressor(nn.Module):\n",
    "    def __init__(self, in_features) -> None:\n",
    "        super().__init__()\n",
    "        self.model = nn.Sequential(\n",
    "            nn.Linear(in_features,512),\n",
    "            nn.ReLU(),\n",
    "            nn.Linear(512,256),\n",
    "            nn.ReLU(),\n",
    "            nn.Linear(256,64),\n",
    "            nn.ReLU(),\n",
    "            nn.Linear(64,8),\n",
    "            nn.ReLU(),\n",
    "            nn.Linear(8,1),\n",
    "        )\n",
    "\n",
    "    def forward(self, x):\n",
    "        return self.model(x)"
   ]
  },
  {
   "cell_type": "code",
   "execution_count": 12,
   "metadata": {},
   "outputs": [],
   "source": [
    "class SuicideRegressorBN(nn.Module):\n",
    "    def __init__(self, in_features) -> None:\n",
    "        super().__init__()\n",
    "        self.model = nn.Sequential(\n",
    "            nn.BatchNorm1d(num_features=in_features),\n",
    "            nn.Linear(in_features, 512),\n",
    "            nn.ReLU(),\n",
    "            nn.BatchNorm1d(num_features=512),\n",
    "            nn.Linear(512, 256),\n",
    "            nn.ReLU(),\n",
    "            nn.BatchNorm1d(num_features=256),\n",
    "            nn.Linear(256, 64),\n",
    "            nn.ReLU(),\n",
    "            nn.BatchNorm1d(num_features=64),\n",
    "            nn.Linear(64, 8),\n",
    "            nn.ReLU(),\n",
    "            nn.BatchNorm1d(num_features=8),\n",
    "            nn.Linear(8, 1),\n",
    "        )\n",
    "\n",
    "    def forward(self, x):\n",
    "        return self.model(x)"
   ]
  },
  {
   "attachments": {},
   "cell_type": "markdown",
   "metadata": {},
   "source": [
    "## Train model"
   ]
  },
  {
   "cell_type": "code",
   "execution_count": 13,
   "metadata": {},
   "outputs": [
    {
     "name": "stdout",
     "output_type": "stream",
     "text": [
      "[tensor([[-0.3843, -0.1995,  1.0116,  ..., -0.4817, -0.3738, -0.5036],\n",
      "        [ 0.3546,  1.0578,  1.0116,  ..., -1.3187,  2.2703,  0.7375],\n",
      "        [-1.7566,  2.3151, -0.9886,  ...,  0.5982,  0.2023,  0.0966],\n",
      "        ...,\n",
      "        [ 1.1991, -0.1995, -0.9886,  ...,  0.5982, -0.8465, -0.4315],\n",
      "        [-0.0676, -1.4568, -0.9886,  ...,  0.5982,  0.9557, -0.4183],\n",
      "        [-1.2288,  3.5723, -0.9886,  ..., -1.1297,  3.1419,  0.3082]]), tensor([100.1000,   9.8300,   7.2800,  ...,   4.6500,   3.7200,   4.5000])]\n"
     ]
    }
   ],
   "source": [
    "train_ds = SuicideDataSet(split='train')\n",
    "train_loader = DataLoader(dataset=train_ds, batch_size=1788)\n",
    "\n",
    "val_ds = SuicideDataSet(split='val')\n",
    "val_loader = DataLoader(dataset=val_ds, batch_size=276)\n",
    "\n",
    "a = iter(train_loader)\n",
    "b = a._next_data()\n",
    "print(b)\n",
    "# print(b)\n"
   ]
  },
  {
   "cell_type": "code",
   "execution_count": 14,
   "metadata": {},
   "outputs": [],
   "source": [
    "from torch.utils.tensorboard import SummaryWriter\n",
    "from datetime import datetime\n",
    "writer = SummaryWriter(log_dir=f\"./tb_logs/{datetime.now().strftime('%Y-%M-%d_%H:%m')}\")\n",
    "\n"
   ]
  },
  {
   "cell_type": "code",
   "execution_count": 15,
   "metadata": {},
   "outputs": [
    {
     "name": "stdout",
     "output_type": "stream",
     "text": [
      "epoch : 1/3000, train_loss = 454.652771\n",
      "epoch : 1/3000, val_loss = 494.151917\n",
      "epoch : 201/3000, train_loss = 9.371614\n",
      "epoch : 201/3000, val_loss = 16.167332\n",
      "epoch : 401/3000, train_loss = 0.109246\n",
      "epoch : 401/3000, val_loss = 7.856324\n",
      "epoch : 601/3000, train_loss = 0.052403\n",
      "epoch : 601/3000, val_loss = 8.351795\n",
      "epoch : 801/3000, train_loss = 0.038651\n",
      "epoch : 801/3000, val_loss = 8.012628\n",
      "epoch : 1001/3000, train_loss = 0.064795\n",
      "epoch : 1001/3000, val_loss = 7.813686\n",
      "epoch : 1201/3000, train_loss = 0.177920\n",
      "epoch : 1201/3000, val_loss = 7.703077\n",
      "epoch : 1401/3000, train_loss = 0.036813\n",
      "epoch : 1401/3000, val_loss = 7.966930\n"
     ]
    },
    {
     "ename": "KeyboardInterrupt",
     "evalue": "",
     "output_type": "error",
     "traceback": [
      "\u001b[0;31m---------------------------------------------------------------------------\u001b[0m",
      "\u001b[0;31mKeyboardInterrupt\u001b[0m                         Traceback (most recent call last)",
      "Cell \u001b[0;32mIn[15], line 13\u001b[0m\n\u001b[1;32m     11\u001b[0m model\u001b[39m.\u001b[39mtrain()\n\u001b[1;32m     12\u001b[0m loss \u001b[39m=\u001b[39m \u001b[39m0\u001b[39m\n\u001b[0;32m---> 13\u001b[0m \u001b[39mfor\u001b[39;00m batch_ftrs, batch_labels \u001b[39min\u001b[39;00m train_loader:\n\u001b[1;32m     14\u001b[0m     optim\u001b[39m.\u001b[39mzero_grad()\n\u001b[1;32m     15\u001b[0m     y_pred \u001b[39m=\u001b[39m model(batch_ftrs)\n",
      "File \u001b[0;32m~/opt/anaconda3/envs/bdp/lib/python3.10/site-packages/torch/utils/data/dataloader.py:634\u001b[0m, in \u001b[0;36m_BaseDataLoaderIter.__next__\u001b[0;34m(self)\u001b[0m\n\u001b[1;32m    631\u001b[0m \u001b[39mif\u001b[39;00m \u001b[39mself\u001b[39m\u001b[39m.\u001b[39m_sampler_iter \u001b[39mis\u001b[39;00m \u001b[39mNone\u001b[39;00m:\n\u001b[1;32m    632\u001b[0m     \u001b[39m# TODO(https://github.com/pytorch/pytorch/issues/76750)\u001b[39;00m\n\u001b[1;32m    633\u001b[0m     \u001b[39mself\u001b[39m\u001b[39m.\u001b[39m_reset()  \u001b[39m# type: ignore[call-arg]\u001b[39;00m\n\u001b[0;32m--> 634\u001b[0m data \u001b[39m=\u001b[39m \u001b[39mself\u001b[39;49m\u001b[39m.\u001b[39;49m_next_data()\n\u001b[1;32m    635\u001b[0m \u001b[39mself\u001b[39m\u001b[39m.\u001b[39m_num_yielded \u001b[39m+\u001b[39m\u001b[39m=\u001b[39m \u001b[39m1\u001b[39m\n\u001b[1;32m    636\u001b[0m \u001b[39mif\u001b[39;00m \u001b[39mself\u001b[39m\u001b[39m.\u001b[39m_dataset_kind \u001b[39m==\u001b[39m _DatasetKind\u001b[39m.\u001b[39mIterable \u001b[39mand\u001b[39;00m \\\n\u001b[1;32m    637\u001b[0m         \u001b[39mself\u001b[39m\u001b[39m.\u001b[39m_IterableDataset_len_called \u001b[39mis\u001b[39;00m \u001b[39mnot\u001b[39;00m \u001b[39mNone\u001b[39;00m \u001b[39mand\u001b[39;00m \\\n\u001b[1;32m    638\u001b[0m         \u001b[39mself\u001b[39m\u001b[39m.\u001b[39m_num_yielded \u001b[39m>\u001b[39m \u001b[39mself\u001b[39m\u001b[39m.\u001b[39m_IterableDataset_len_called:\n",
      "File \u001b[0;32m~/opt/anaconda3/envs/bdp/lib/python3.10/site-packages/torch/utils/data/dataloader.py:678\u001b[0m, in \u001b[0;36m_SingleProcessDataLoaderIter._next_data\u001b[0;34m(self)\u001b[0m\n\u001b[1;32m    676\u001b[0m \u001b[39mdef\u001b[39;00m \u001b[39m_next_data\u001b[39m(\u001b[39mself\u001b[39m):\n\u001b[1;32m    677\u001b[0m     index \u001b[39m=\u001b[39m \u001b[39mself\u001b[39m\u001b[39m.\u001b[39m_next_index()  \u001b[39m# may raise StopIteration\u001b[39;00m\n\u001b[0;32m--> 678\u001b[0m     data \u001b[39m=\u001b[39m \u001b[39mself\u001b[39;49m\u001b[39m.\u001b[39;49m_dataset_fetcher\u001b[39m.\u001b[39;49mfetch(index)  \u001b[39m# may raise StopIteration\u001b[39;00m\n\u001b[1;32m    679\u001b[0m     \u001b[39mif\u001b[39;00m \u001b[39mself\u001b[39m\u001b[39m.\u001b[39m_pin_memory:\n\u001b[1;32m    680\u001b[0m         data \u001b[39m=\u001b[39m _utils\u001b[39m.\u001b[39mpin_memory\u001b[39m.\u001b[39mpin_memory(data, \u001b[39mself\u001b[39m\u001b[39m.\u001b[39m_pin_memory_device)\n",
      "File \u001b[0;32m~/opt/anaconda3/envs/bdp/lib/python3.10/site-packages/torch/utils/data/_utils/fetch.py:51\u001b[0m, in \u001b[0;36m_MapDatasetFetcher.fetch\u001b[0;34m(self, possibly_batched_index)\u001b[0m\n\u001b[1;32m     49\u001b[0m         data \u001b[39m=\u001b[39m \u001b[39mself\u001b[39m\u001b[39m.\u001b[39mdataset\u001b[39m.\u001b[39m__getitems__(possibly_batched_index)\n\u001b[1;32m     50\u001b[0m     \u001b[39melse\u001b[39;00m:\n\u001b[0;32m---> 51\u001b[0m         data \u001b[39m=\u001b[39m [\u001b[39mself\u001b[39m\u001b[39m.\u001b[39mdataset[idx] \u001b[39mfor\u001b[39;00m idx \u001b[39min\u001b[39;00m possibly_batched_index]\n\u001b[1;32m     52\u001b[0m \u001b[39melse\u001b[39;00m:\n\u001b[1;32m     53\u001b[0m     data \u001b[39m=\u001b[39m \u001b[39mself\u001b[39m\u001b[39m.\u001b[39mdataset[possibly_batched_index]\n",
      "File \u001b[0;32m~/opt/anaconda3/envs/bdp/lib/python3.10/site-packages/torch/utils/data/_utils/fetch.py:51\u001b[0m, in \u001b[0;36m<listcomp>\u001b[0;34m(.0)\u001b[0m\n\u001b[1;32m     49\u001b[0m         data \u001b[39m=\u001b[39m \u001b[39mself\u001b[39m\u001b[39m.\u001b[39mdataset\u001b[39m.\u001b[39m__getitems__(possibly_batched_index)\n\u001b[1;32m     50\u001b[0m     \u001b[39melse\u001b[39;00m:\n\u001b[0;32m---> 51\u001b[0m         data \u001b[39m=\u001b[39m [\u001b[39mself\u001b[39;49m\u001b[39m.\u001b[39;49mdataset[idx] \u001b[39mfor\u001b[39;00m idx \u001b[39min\u001b[39;00m possibly_batched_index]\n\u001b[1;32m     52\u001b[0m \u001b[39melse\u001b[39;00m:\n\u001b[1;32m     53\u001b[0m     data \u001b[39m=\u001b[39m \u001b[39mself\u001b[39m\u001b[39m.\u001b[39mdataset[possibly_batched_index]\n",
      "Cell \u001b[0;32mIn[10], line 16\u001b[0m, in \u001b[0;36mSuicideDataSet.__getitem__\u001b[0;34m(self, idx)\u001b[0m\n\u001b[1;32m     14\u001b[0m label \u001b[39m=\u001b[39m \u001b[39mself\u001b[39m\u001b[39m.\u001b[39msplits[\u001b[39mself\u001b[39m\u001b[39m.\u001b[39msplit][\u001b[39m'\u001b[39m\u001b[39my\u001b[39m\u001b[39m'\u001b[39m][idx]\n\u001b[1;32m     15\u001b[0m ftrs \u001b[39m=\u001b[39m torch\u001b[39m.\u001b[39mtensor(ftrs)\u001b[39m.\u001b[39mfloat()\n\u001b[0;32m---> 16\u001b[0m label \u001b[39m=\u001b[39m torch\u001b[39m.\u001b[39;49mtensor(label)\u001b[39m.\u001b[39;49mfloat()\n\u001b[1;32m     17\u001b[0m \u001b[39mreturn\u001b[39;00m ftrs, label\n",
      "\u001b[0;31mKeyboardInterrupt\u001b[0m: "
     ]
    }
   ],
   "source": [
    "\n",
    "EPOCHS = 1_000\n",
    "model = SuicideRegressorBN(in_features=9)\n",
    "criterion = nn.MSELoss()\n",
    "optim = torch.optim.Adam(\n",
    "    params=model.parameters(),\n",
    "    lr=5e-3,\n",
    "    weight_decay=1e-4\n",
    ")\n",
    "\n",
    "for epoch in range(EPOCHS):\n",
    "    model.train()\n",
    "    loss = 0\n",
    "    for batch_ftrs, batch_labels in train_loader:\n",
    "        optim.zero_grad()\n",
    "        y_pred = model(batch_ftrs)\n",
    "        train_loss = criterion(y_pred[:,0], batch_labels)\n",
    "        train_loss.backward()\n",
    "\n",
    "        optim.step()\n",
    "        loss += train_loss.item()\n",
    "\n",
    "    loss = loss / len(train_loader)\n",
    "\n",
    "    # compute validation loss\n",
    "    val_loss = 0\n",
    "    with torch.no_grad():\n",
    "        model.eval()\n",
    "        for batch_ftrs, batch_labels in val_loader:\n",
    "            y_pred = model(batch_ftrs)\n",
    "            cur_loss = criterion(y_pred[:,0], batch_labels)\n",
    "            val_loss += cur_loss.item()\n",
    "        val_loss = val_loss / len(val_loader)\n",
    "    # prints\n",
    "    if epoch % 200 == 0:\n",
    "        print(\"epoch : {}/{}, train_loss = {:.6f}\".format(epoch + 1, EPOCHS, loss))\n",
    "        print(\"epoch : {}/{}, val_loss = {:.6f}\".format(epoch + 1, EPOCHS, val_loss))\n",
    "     # add scalars to tensorboard\n",
    "    writer.add_scalar(f\"{criterion}/train\", loss, epoch + 1)\n",
    "    writer.add_scalar(f\"{criterion}/val\", val_loss, epoch + 1)\n",
    "    writer.add_scalars(\"comp\", {'train':loss, 'val':val_loss}, epoch+1)\n",
    "\n",
    "    writer.flush()"
   ]
  },
  {
   "cell_type": "code",
   "execution_count": null,
   "metadata": {},
   "outputs": [],
   "source": [
    "torch.save(model, \"torch_models/bn_1.pickle\")"
   ]
  },
  {
   "cell_type": "code",
   "execution_count": null,
   "metadata": {},
   "outputs": [],
   "source": [
    "from sklearn.metrics import mean_squared_error, mean_absolute_error, median_absolute_error\n",
    "\n",
    "with torch.no_grad():\n",
    "    model.eval()\n",
    "    pred = model(torch.tensor(X_test_std).float())\n",
    "    custom_mlp_pred = pred[:, 0]\n"
   ]
  },
  {
   "attachments": {},
   "cell_type": "markdown",
   "metadata": {},
   "source": [
    "## compare with sklearn MLP"
   ]
  },
  {
   "cell_type": "code",
   "execution_count": null,
   "metadata": {},
   "outputs": [],
   "source": [
    "from sklearn.neural_network import MLPRegressor\n",
    "\n",
    "mlp_model = MLPRegressor(\n",
    "    hidden_layer_sizes=[512,256,64,8],\n",
    "    max_iter=3000,\n",
    "    activation='relu')\n",
    "mlp_model.fit(X_train_std,Y_train)"
   ]
  },
  {
   "cell_type": "code",
   "execution_count": null,
   "metadata": {},
   "outputs": [],
   "source": [
    "mlp_pred = mlp_model.predict(X_test_std)\n",
    "metrics = [mean_squared_error, mean_absolute_error, median_absolute_error]\n",
    "model_preds = {\n",
    "    'mlp': mlp_pred,\n",
    "    'custom_mlp': custom_mlp_pred\n",
    "}\n",
    "\n",
    "\n",
    "for metric in metrics:\n",
    "    print(f\"{metric.__name__} eval:\")\n",
    "    for model, pred in model_preds.items():\n",
    "        score = metric(y_true=Y_test, y_pred=pred)\n",
    "        print(f\"{model}: {score}\")\n",
    "    print('-'*10)"
   ]
  },
  {
   "cell_type": "code",
   "execution_count": null,
   "metadata": {},
   "outputs": [],
   "source": [
    "n_samples = 50\n",
    "pred_df = pd.DataFrame({\n",
    "    'sklearn_mlp_pred': mlp_model.predict(X_test_std)[:n_samples],\n",
    "    'custom_mlp_pred' : custom_mlp_pred[:n_samples],\n",
    "    'ground_truth': Y_test[:n_samples]\n",
    "})\n",
    "sns.scatterplot(pred_df, markers=True, alpha=.6)\n",
    "sns.lineplot(pred_df)"
   ]
  }
 ],
 "metadata": {
  "kernelspec": {
   "display_name": "bdp",
   "language": "python",
   "name": "python3"
  },
  "language_info": {
   "codemirror_mode": {
    "name": "ipython",
    "version": 3
   },
   "file_extension": ".py",
   "mimetype": "text/x-python",
   "name": "python",
   "nbconvert_exporter": "python",
   "pygments_lexer": "ipython3",
   "version": "3.10.9"
  },
  "orig_nbformat": 4
 },
 "nbformat": 4,
 "nbformat_minor": 2
}
