{
 "cells": [
  {
   "cell_type": "code",
   "execution_count": 11,
   "metadata": {},
   "outputs": [
    {
     "name": "stdout",
     "output_type": "stream",
     "text": [
      "/Users/marcelrosier/Projects/uni/master/bdp/bdp_project/mental_health\n"
     ]
    }
   ],
   "source": [
    "import pandas as pd\n",
    "import numpy as np\n",
    "import matplotlib.pylab as plt\n",
    "import seaborn as sns\n",
    "import os\n",
    "import utils\n",
    "plt.style.use('ggplot')\n",
    "pd.set_option('display.max_columns', 200)\n",
    "pd.set_option('display.float_format', lambda x: '%.10f' % x)\n",
    "\n",
    "import torch\n",
    "from torch.utils.data import Dataset, DataLoader\n"
   ]
  },
  {
   "cell_type": "code",
   "execution_count": 3,
   "metadata": {},
   "outputs": [],
   "source": [
    "X_train_std, X_test_std, Y_train, Y_test = utils.get_train_test_split()\n"
   ]
  },
  {
   "cell_type": "code",
   "execution_count": 13,
   "metadata": {},
   "outputs": [],
   "source": [
    "from typing import Tuple\n",
    "\n",
    "\n",
    "class SuicideDataSet(Dataset):\n",
    "    def __init__(self, test=False):\n",
    "        self.test = test\n",
    "        self.X_train_std, self.X_test_std, self.Y_train, self.Y_test = utils.get_train_test_split()\n",
    "\n",
    "    def __len__(self):\n",
    "        return len(Y_test if self.test else Y_train)\n",
    "\n",
    "    def __getitem__(self, idx: int) -> Tuple[torch.Tensor, torch.Tensor]:\n",
    "        ftrs = X_test_std[idx] if self.test else X_train_std[idx]\n",
    "        label = Y_test[idx] if self.test else Y_train[idx]\n",
    "        return torch.tensor(ftrs), torch.tensor(label)\n"
   ]
  },
  {
   "cell_type": "code",
   "execution_count": 18,
   "metadata": {},
   "outputs": [
    {
     "name": "stdout",
     "output_type": "stream",
     "text": [
      "[tensor([[0.0000, 0.7500, 1.0000, 0.4000, 0.0000, 0.4667, 0.9888, 0.3300, 0.0717]],\n",
      "       dtype=torch.float64), tensor([816])]\n"
     ]
    }
   ],
   "source": [
    "train_ds = SuicideDataSet(test=False)\n",
    "train_loader = DataLoader(dataset=train_ds)\n",
    "\n",
    "a = iter(train_loader)\n",
    "b = a._next_data()\n",
    "print(b)\n"
   ]
  },
  {
   "cell_type": "code",
   "execution_count": null,
   "metadata": {},
   "outputs": [],
   "source": []
  }
 ],
 "metadata": {
  "kernelspec": {
   "display_name": "bdp",
   "language": "python",
   "name": "python3"
  },
  "language_info": {
   "codemirror_mode": {
    "name": "ipython",
    "version": 3
   },
   "file_extension": ".py",
   "mimetype": "text/x-python",
   "name": "python",
   "nbconvert_exporter": "python",
   "pygments_lexer": "ipython3",
   "version": "3.10.9"
  },
  "orig_nbformat": 4
 },
 "nbformat": 4,
 "nbformat_minor": 2
}
