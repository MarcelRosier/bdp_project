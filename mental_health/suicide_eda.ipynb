{
 "cells": [
  {
   "cell_type": "code",
   "execution_count": null,
   "metadata": {},
   "outputs": [],
   "source": [
    "import pandas as pd\n",
    "import numpy as np\n",
    "import matplotlib.pylab as plt\n",
    "import seaborn as sns\n",
    "import utils\n",
    "plt.style.use('ggplot')\n",
    "pd.set_option('display.max_columns', 200)\n",
    "pd.set_option('display.float_format', lambda x: '%.10f' % x)\n"
   ]
  },
  {
   "cell_type": "code",
   "execution_count": null,
   "metadata": {},
   "outputs": [],
   "source": [
    "df = pd.read_csv('datasets/suicide_ds_2016.csv')"
   ]
  },
  {
   "cell_type": "code",
   "execution_count": null,
   "metadata": {},
   "outputs": [],
   "source": [
    "df.info()\n",
    "dir(utils)"
   ]
  },
  {
   "cell_type": "code",
   "execution_count": null,
   "metadata": {},
   "outputs": [],
   "source": [
    "df.head()"
   ]
  },
  {
   "cell_type": "code",
   "execution_count": null,
   "metadata": {},
   "outputs": [],
   "source": [
    "df.tail()"
   ]
  },
  {
   "cell_type": "code",
   "execution_count": null,
   "metadata": {},
   "outputs": [],
   "source": [
    "df.nunique()"
   ]
  },
  {
   "cell_type": "code",
   "execution_count": null,
   "metadata": {},
   "outputs": [],
   "source": [
    "df.isna().sum()"
   ]
  },
  {
   "attachments": {},
   "cell_type": "markdown",
   "metadata": {},
   "source": [
    "# Tidy data\n",
    "- Drop columns:\n",
    "    - remove HDI for year\n",
    "    - remove country-year\n",
    "- Rename columns:\n",
    "    - 'suicides/100k pop'  => suicides_per_100k_pop\n",
    "    - ' gdp_for_year ($) ' => gdp_for_year\n",
    "    - 'gdp_per_capita ($)' => gdp_per_capita\n",
    "- Remove data points:\n",
    "    - remove data from 2016 due to incompleteness"
   ]
  },
  {
   "cell_type": "code",
   "execution_count": null,
   "metadata": {},
   "outputs": [],
   "source": [
    "# HDI has a lot of missing data -> drop the column\n",
    "# country-year is not needed -> drop\n",
    "# generation also controversial according to kaggle examples\n",
    "tidy_df = df.drop(['HDI for year', 'country-year'], axis='columns')\n",
    "\n",
    "# rename collumns to be snake case confirm and remove currency\n",
    "tidy_df = tidy_df.rename(columns=\n",
    "    {\n",
    "        'suicides/100k pop': 'suicides_per_100k_pop',\n",
    "        # the extra spaces in the name below are intended!\n",
    "        ' gdp_for_year ($) ': 'gdp_for_year',\n",
    "        'gdp_per_capita ($)':'gdp_per_capita'\n",
    "    })\n",
    "tidy_df.columns\n"
   ]
  },
  {
   "cell_type": "code",
   "execution_count": null,
   "metadata": {},
   "outputs": [],
   "source": [
    "# find missing rows\n",
    "counts = tidy_df.groupby(['country', 'year']).count()\n",
    "counts.where(counts < 12).dropna()\n",
    "# for 16 countries there is data missing in 2016 \n",
    "# => remove that year to prevent misinterpretation\n",
    "tidy_df = tidy_df[tidy_df['year'] != 2016]"
   ]
  },
  {
   "cell_type": "code",
   "execution_count": null,
   "metadata": {},
   "outputs": [],
   "source": [
    "temp = tidy_df.groupby(['country', 'year']).count().reset_index()\n",
    "temp = temp[['country','year']]\n",
    "country_years = temp.groupby('country').count()\n",
    "ax = country_years.value_counts(sort=False).plot.bar()\n",
    "ax.set_xlabel('#years with data')\n",
    "ax.set_ylabel('frequency')"
   ]
  },
  {
   "attachments": {},
   "cell_type": "markdown",
   "metadata": {},
   "source": [
    "plot above shows available data.  \n",
    "31 is max (1985 to 2015)  \n",
    "Whats a reasonable cutoff?  \n",
    "10 years?"
   ]
  },
  {
   "cell_type": "code",
   "execution_count": null,
   "metadata": {},
   "outputs": [],
   "source": [
    "# get country names with less than k years of data available\n",
    "temp = country_years.reset_index()\n",
    "MIN_DATA_YEARS = 3\n",
    "names = temp[temp.year <= MIN_DATA_YEARS].country.values\n",
    "names"
   ]
  },
  {
   "cell_type": "code",
   "execution_count": null,
   "metadata": {},
   "outputs": [],
   "source": [
    "# remove countries determined above by using .isin with the prepended negation (~))\n",
    "tidy_df = tidy_df[~tidy_df['country'].isin(names)]\n",
    "tidy_df.shape"
   ]
  },
  {
   "attachments": {},
   "cell_type": "markdown",
   "metadata": {},
   "source": [
    "## Add contintent info to data\n",
    "use python countrycode package"
   ]
  },
  {
   "cell_type": "code",
   "execution_count": null,
   "metadata": {},
   "outputs": [],
   "source": [
    "import pycountry_convert as pc\n",
    "from pycountry import pycountry\n",
    "# # [c.name for c in pycountry.countries]\n",
    "name_map = {\n",
    "    'Saint Vincent and Grenadines':'Saint Vincent and the Grenadines',\n",
    "    'Republic of Korea': 'Korea, Republic of',\n",
    "}\n",
    "\n",
    "\n",
    "# def country_name_to_continent_code(country):\n",
    "#     if country in name_map:\n",
    "#         country = name_map[country]\n",
    "#     country_code = pc.country_name_to_country_alpha2(country, cn_name_format=\"default\")\n",
    "#     # print(country_code)\n",
    "#     continent_code = pc.country_alpha2_to_continent_code(country_code)\n",
    "#     # print(continent_name)\n",
    "#     return pc.convert_continent_code_to_continent_name(continent_code)\n",
    "\n",
    "# tidy_df['continent'] = [country_name_to_continent_code(country) for country in tidy_df.country]\n",
    "# tidy_df"
   ]
  },
  {
   "cell_type": "code",
   "execution_count": null,
   "metadata": {},
   "outputs": [],
   "source": [
    "# get num of recorded years per country from tidy_df\n",
    "recorded_years_per_country = tidy_df.groupby(['country','year']).count().reset_index()[['country','year']]\n",
    "recorded_years_per_country = recorded_years_per_country.groupby('country').count().reset_index().sort_values(by='year')\n",
    "recorded_years_per_country = recorded_years_per_country.rename(columns={\n",
    "    'year' : 'recorded_years'\n",
    "})\n",
    "recorded_years_per_country['country_code'] = [\n",
    "  pc.country_name_to_country_alpha3(name_map.get(c,c))  for c in recorded_years_per_country.country\n",
    "]\n",
    "recorded_years_per_country\n",
    "\n",
    "import geopandas\n",
    "world = geopandas.read_file(geopandas.datasets.get_path('naturalearth_lowres'))\n",
    "world.columns\n",
    "# world = world.drop(columns=['pop_est', 'iso_a3', 'gdp_md_est'], axis='columns')\n",
    "# world = world.rename(columns=\n",
    "#     {\n",
    "#         'name':'country'\n",
    "#     })\n",
    "merged_df = pd.merge(world,recorded_years_per_country,left_on='iso_a3',right_on='country_code', how='left')\n",
    "\n",
    "# replace NaN with 0\n",
    "merged_df['recorded_years'] = merged_df['recorded_years'].fillna(0)\n",
    "merged_df"
   ]
  },
  {
   "attachments": {},
   "cell_type": "markdown",
   "metadata": {},
   "source": [
    "## Plot showing the number of recorded years per country on a worldmap"
   ]
  },
  {
   "cell_type": "code",
   "execution_count": null,
   "metadata": {},
   "outputs": [],
   "source": [
    "\n",
    "merged_df.plot(column='recorded_years',\n",
    "           figsize=(15, 5),\n",
    "           legend=True,cmap='viridis')\n"
   ]
  },
  {
   "attachments": {},
   "cell_type": "markdown",
   "metadata": {},
   "source": [
    "# Plot suidice per 100k rates for country, year etc\n",
    "confused about per 100k colum: how to aggregate them to get per year value? mean? does not seem to fit visualizations on kaggle \n",
    "=> not possible. simply recalcualte by summing population and suicides_no in all categories and them take the mean over the years"
   ]
  },
  {
   "cell_type": "code",
   "execution_count": null,
   "metadata": {},
   "outputs": [],
   "source": [
    "def add_per100k(df):\n",
    "    df['per100k'] = ((df.suicides_no / df.population) * 100_000)\n",
    "    return df"
   ]
  },
  {
   "cell_type": "code",
   "execution_count": null,
   "metadata": {},
   "outputs": [],
   "source": [
    "by_country_and_year = tidy_df.groupby(['country', 'year'])[\n",
    "    ['population', 'suicides_no']].sum(numeric_only=True)\n",
    "by_country_and_year['per100k'] = (\n",
    "    by_country_and_year['suicides_no'] / by_country_and_year['population']) * 100_000\n",
    "# by_country_and_year[['country','per100k']].mean('per100k')\n",
    "country_alltime_avg = by_country_and_year.groupby('country').mean('per100k')\n",
    "country_alltime_avg = country_alltime_avg.per100k\n",
    "print(country_alltime_avg.filter(items=['Germany']))\n",
    "country_alltime_avg = country_alltime_avg.sort_values()\n",
    "country_alltime_avg[-20:].plot.barh()\n",
    "# country_alltime_avg.plot.barh(x='per100k', y='country')\n",
    "# country_alltime_avg.per100k.plot.barh()\n"
   ]
  },
  {
   "cell_type": "code",
   "execution_count": null,
   "metadata": {},
   "outputs": [],
   "source": [
    "# ger_2015 = tidy_df[tidy_df.year == 2015][tidy_df.country == 'Germany'][['population','suicides_no']].sum(numeric_only=True)\n",
    "# ger_2015['per100k'] = ((ger_2015.suicides_no / ger_2015.population) * 100_000)\n",
    "# ger_2015"
   ]
  },
  {
   "cell_type": "code",
   "execution_count": null,
   "metadata": {},
   "outputs": [],
   "source": [
    "avg_1995 = tidy_df[tidy_df.year == 1995][['population','suicides_no']].sum()\n",
    "add_per100k(avg_1995)\n",
    "avg_1995"
   ]
  },
  {
   "attachments": {},
   "cell_type": "markdown",
   "metadata": {},
   "source": [
    "\n",
    "# NOTE\n",
    "reported values on kaggle are not averages over country per 100k but rather the facotr : sum all suicides/ sum all popluation"
   ]
  },
  {
   "cell_type": "code",
   "execution_count": null,
   "metadata": {},
   "outputs": [],
   "source": [
    "# plot avg per 100k rate across all coutnries per year in a line plot\n",
    "tidy_df = utils.load_suicide_data()\n",
    "\n",
    "avg_per_year = tidy_df.groupby(['year'])[\n",
    "    ['population', 'suicides_no']].sum(numeric_only=True)\n",
    "add_per100k(avg_per_year)\n",
    "# avg_per_year.mean('per100k', axis='column')\n",
    "# global_mean =\n",
    "fig, ax = plt.subplots(figsize=(10, 5))  # for size of figure\n",
    "\n",
    "t = sns.lineplot(data=avg_per_year.per100k, markers=True, ax=ax, marker=\"o\")\n",
    "ticks = np.arange(1985, 2016, 2)\n",
    "t.set_xticks(ticks, labels=ticks)\n",
    "t.axhline(avg_per_year.per100k.mean(), linestyle='--', color='blue')\n"
   ]
  },
  {
   "attachments": {},
   "cell_type": "markdown",
   "metadata": {},
   "source": [
    "## group trends separated by gender"
   ]
  },
  {
   "cell_type": "code",
   "execution_count": null,
   "metadata": {},
   "outputs": [],
   "source": [
    "avg_by_sex = tidy_df.groupby('sex')[\n",
    "    ['population', 'suicides_no']].sum(numeric_only=True)\n",
    "add_per100k(avg_by_sex)\n",
    "p = avg_by_sex.per100k.plot.bar()\n",
    "p.set_yticks(np.arange(0,22,1))\n",
    "p.set_ylabel('Suicides per 100k')"
   ]
  },
  {
   "cell_type": "code",
   "execution_count": null,
   "metadata": {},
   "outputs": [],
   "source": [
    "# same for trend over time\n",
    "avg_by_sex_per_year = tidy_df.groupby(['sex','year'])[\n",
    "    ['population', 'suicides_no']].sum(numeric_only=True)\n",
    "add_per100k(avg_by_sex_per_year)\n",
    "avg_by_sex_per_year= avg_by_sex_per_year.reset_index()\n",
    "male = avg_by_sex_per_year[avg_by_sex_per_year.sex == 'male']\n",
    "female= avg_by_sex_per_year[avg_by_sex_per_year.sex == 'female']\n",
    "fig, ax = plt.subplots(1,3, figsize=(12,5))\n",
    "yticks = np.arange(5,25,2)\n",
    "t1 = sns.lineplot(data=avg_by_sex_per_year, x=\"year\", y=\"per100k\", ax=ax[0], hue=\"sex\",markers=True,marker=\"o\")\n",
    "t1.set_yticks(yticks)\n",
    "t2 = sns.lineplot(data=male, x=\"year\", y=\"per100k\", ax=ax[1],markers=True,marker=\"o\", color='blue')\n",
    "t2.set_yticks(yticks)\n",
    "t3 = sns.lineplot(data=female, x=\"year\", y=\"per100k\", ax=ax[2],markers=True,marker=\"o\")\n",
    "t3.set_yticks(yticks)"
   ]
  },
  {
   "attachments": {},
   "cell_type": "markdown",
   "metadata": {},
   "source": [
    "## analyze country trends"
   ]
  },
  {
   "cell_type": "code",
   "execution_count": null,
   "metadata": {},
   "outputs": [],
   "source": [
    "by_country_and_year = tidy_df.groupby(['country', 'year'])[\n",
    "    ['population', 'suicides_no']].sum(numeric_only=True)\n",
    "add_per100k(by_country_and_year)\n",
    "by_country_and_year = by_country_and_year.reset_index()[\n",
    "    ['country', 'year', 'per100k']]\n",
    "by_country_and_year\n",
    "# by_country_and_year= by_country_and_year[by_country_and_year.country == 'Germany']\n",
    "# sns.relplot(data=by_country_and_year,x=\"year\",y=\"per100k\", col=\"country\",kind=\"scatter\", col_wrap=8)\n",
    "\n",
    "\n",
    "def trendline(x, y, order=1):\n",
    "    slope = np.polyfit(x, y, order)[-2]\n",
    "    return float(slope)\n",
    "\n",
    "def apply_trendline(df):\n",
    "    return trendline(df.year.values, df.per100k.values)\n",
    "\n",
    "trends = by_country_and_year.groupby('country').apply(apply_trendline).sort_values()[::-1]\n",
    "# sns.scatterplot(trends_per_country, y='country')\n",
    "fig, ax = plt.subplots(figsize=(3,12))\n",
    "sns.scatterplot(x=trends.values, y=trends.keys(), ax=ax)\n"
   ]
  },
  {
   "cell_type": "code",
   "execution_count": null,
   "metadata": {},
   "outputs": [],
   "source": [
    "top_n_incr_trends = by_country_and_year[by_country_and_year.country.isin(trends[:6].keys())]\n",
    "sns.relplot(data=top_n_incr_trends, x='year',y='per100k', col='country', col_wrap=2, kind='line')\n",
    "top_n_decr_trends = by_country_and_year[by_country_and_year.country.isin(trends[-6:].keys())]\n",
    "sns.relplot(data=top_n_decr_trends, x='year',y='per100k', col='country', col_wrap=2, kind='line')\n"
   ]
  },
  {
   "cell_type": "code",
   "execution_count": null,
   "metadata": {},
   "outputs": [],
   "source": []
  }
 ],
 "metadata": {
  "kernelspec": {
   "display_name": "bdp",
   "language": "python",
   "name": "python3"
  },
  "language_info": {
   "codemirror_mode": {
    "name": "ipython",
    "version": 3
   },
   "file_extension": ".py",
   "mimetype": "text/x-python",
   "name": "python",
   "nbconvert_exporter": "python",
   "pygments_lexer": "ipython3",
   "version": "3.10.9"
  },
  "orig_nbformat": 4,
  "vscode": {
   "interpreter": {
    "hash": "43111e0ce7511cd5a16c8ac375aea18daa53d87cc3a459f535c84d544006fbe2"
   }
  }
 },
 "nbformat": 4,
 "nbformat_minor": 2
}
